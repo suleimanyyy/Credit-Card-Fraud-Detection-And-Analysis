{
 "cells": [
  {
   "cell_type": "markdown",
   "id": "47561138",
   "metadata": {},
   "source": [
    "# Credit Card Fraud Detection\n"
   ]
  },
  {
   "cell_type": "markdown",
   "id": "fb674512",
   "metadata": {},
   "source": [
    "# It is important that credit card companies are able to recognize fraudulent credit card transactions so that customers are not charged for items that they did not purchase."
   ]
  },
  {
   "cell_type": "code",
   "execution_count": 412,
   "id": "465efb97",
   "metadata": {},
   "outputs": [],
   "source": [
    "import numpy as np\n",
    "import pandas as pd\n",
    "import seaborn as sns\n",
    "import matplotlib.pyplot as plt"
   ]
  },
  {
   "cell_type": "code",
   "execution_count": 413,
   "id": "527081a8",
   "metadata": {},
   "outputs": [],
   "source": [
    "df = pd.read_csv('C:/Users/HP/Downloads/CC.csv')"
   ]
  },
  {
   "cell_type": "markdown",
   "id": "32a22653",
   "metadata": {},
   "source": [
    "\n",
    "The dataset contains transactions made by credit cards in September 2013 by European cardholders.\n",
    "This dataset presents transactions that occurred in two days, where we have 492 frauds out of 284,807 transactions."
   ]
  },
  {
   "cell_type": "code",
   "execution_count": 414,
   "id": "c0cc0416",
   "metadata": {},
   "outputs": [
    {
     "data": {
      "text/html": [
       "<div>\n",
       "<style scoped>\n",
       "    .dataframe tbody tr th:only-of-type {\n",
       "        vertical-align: middle;\n",
       "    }\n",
       "\n",
       "    .dataframe tbody tr th {\n",
       "        vertical-align: top;\n",
       "    }\n",
       "\n",
       "    .dataframe thead th {\n",
       "        text-align: right;\n",
       "    }\n",
       "</style>\n",
       "<table border=\"1\" class=\"dataframe\">\n",
       "  <thead>\n",
       "    <tr style=\"text-align: right;\">\n",
       "      <th></th>\n",
       "      <th>Unnamed: 0</th>\n",
       "      <th>Time</th>\n",
       "      <th>V1</th>\n",
       "      <th>V2</th>\n",
       "      <th>V3</th>\n",
       "      <th>V4</th>\n",
       "      <th>V5</th>\n",
       "      <th>V6</th>\n",
       "      <th>V7</th>\n",
       "      <th>V8</th>\n",
       "      <th>...</th>\n",
       "      <th>V21</th>\n",
       "      <th>V22</th>\n",
       "      <th>V23</th>\n",
       "      <th>V24</th>\n",
       "      <th>V25</th>\n",
       "      <th>V26</th>\n",
       "      <th>V27</th>\n",
       "      <th>V28</th>\n",
       "      <th>Amount</th>\n",
       "      <th>Class</th>\n",
       "    </tr>\n",
       "  </thead>\n",
       "  <tbody>\n",
       "    <tr>\n",
       "      <th>0</th>\n",
       "      <td>1</td>\n",
       "      <td>0.0</td>\n",
       "      <td>-1.359807</td>\n",
       "      <td>-0.072781</td>\n",
       "      <td>2.536347</td>\n",
       "      <td>1.378155</td>\n",
       "      <td>-0.338321</td>\n",
       "      <td>0.462388</td>\n",
       "      <td>0.239599</td>\n",
       "      <td>0.098698</td>\n",
       "      <td>...</td>\n",
       "      <td>-0.018307</td>\n",
       "      <td>0.277838</td>\n",
       "      <td>-0.110474</td>\n",
       "      <td>0.066928</td>\n",
       "      <td>0.128539</td>\n",
       "      <td>-0.189115</td>\n",
       "      <td>0.133558</td>\n",
       "      <td>-0.021053</td>\n",
       "      <td>149.62</td>\n",
       "      <td>0</td>\n",
       "    </tr>\n",
       "    <tr>\n",
       "      <th>1</th>\n",
       "      <td>2</td>\n",
       "      <td>0.0</td>\n",
       "      <td>1.191857</td>\n",
       "      <td>0.266151</td>\n",
       "      <td>0.166480</td>\n",
       "      <td>0.448154</td>\n",
       "      <td>0.060018</td>\n",
       "      <td>-0.082361</td>\n",
       "      <td>-0.078803</td>\n",
       "      <td>0.085102</td>\n",
       "      <td>...</td>\n",
       "      <td>-0.225775</td>\n",
       "      <td>-0.638672</td>\n",
       "      <td>0.101288</td>\n",
       "      <td>-0.339846</td>\n",
       "      <td>0.167170</td>\n",
       "      <td>0.125895</td>\n",
       "      <td>-0.008983</td>\n",
       "      <td>0.014724</td>\n",
       "      <td>2.69</td>\n",
       "      <td>0</td>\n",
       "    </tr>\n",
       "    <tr>\n",
       "      <th>2</th>\n",
       "      <td>3</td>\n",
       "      <td>1.0</td>\n",
       "      <td>-1.358354</td>\n",
       "      <td>-1.340163</td>\n",
       "      <td>1.773209</td>\n",
       "      <td>0.379780</td>\n",
       "      <td>-0.503198</td>\n",
       "      <td>1.800499</td>\n",
       "      <td>0.791461</td>\n",
       "      <td>0.247676</td>\n",
       "      <td>...</td>\n",
       "      <td>0.247998</td>\n",
       "      <td>0.771679</td>\n",
       "      <td>0.909412</td>\n",
       "      <td>-0.689281</td>\n",
       "      <td>-0.327642</td>\n",
       "      <td>-0.139097</td>\n",
       "      <td>-0.055353</td>\n",
       "      <td>-0.059752</td>\n",
       "      <td>378.66</td>\n",
       "      <td>0</td>\n",
       "    </tr>\n",
       "    <tr>\n",
       "      <th>3</th>\n",
       "      <td>4</td>\n",
       "      <td>1.0</td>\n",
       "      <td>-0.966272</td>\n",
       "      <td>-0.185226</td>\n",
       "      <td>1.792993</td>\n",
       "      <td>-0.863291</td>\n",
       "      <td>-0.010309</td>\n",
       "      <td>1.247203</td>\n",
       "      <td>0.237609</td>\n",
       "      <td>0.377436</td>\n",
       "      <td>...</td>\n",
       "      <td>-0.108300</td>\n",
       "      <td>0.005274</td>\n",
       "      <td>-0.190321</td>\n",
       "      <td>-1.175575</td>\n",
       "      <td>0.647376</td>\n",
       "      <td>-0.221929</td>\n",
       "      <td>0.062723</td>\n",
       "      <td>0.061458</td>\n",
       "      <td>123.50</td>\n",
       "      <td>0</td>\n",
       "    </tr>\n",
       "    <tr>\n",
       "      <th>4</th>\n",
       "      <td>5</td>\n",
       "      <td>2.0</td>\n",
       "      <td>-1.158233</td>\n",
       "      <td>0.877737</td>\n",
       "      <td>1.548718</td>\n",
       "      <td>0.403034</td>\n",
       "      <td>-0.407193</td>\n",
       "      <td>0.095921</td>\n",
       "      <td>0.592941</td>\n",
       "      <td>-0.270533</td>\n",
       "      <td>...</td>\n",
       "      <td>-0.009431</td>\n",
       "      <td>0.798278</td>\n",
       "      <td>-0.137458</td>\n",
       "      <td>0.141267</td>\n",
       "      <td>-0.206010</td>\n",
       "      <td>0.502292</td>\n",
       "      <td>0.219422</td>\n",
       "      <td>0.215153</td>\n",
       "      <td>69.99</td>\n",
       "      <td>0</td>\n",
       "    </tr>\n",
       "  </tbody>\n",
       "</table>\n",
       "<p>5 rows × 32 columns</p>\n",
       "</div>"
      ],
      "text/plain": [
       "   Unnamed: 0  Time        V1        V2        V3        V4        V5  \\\n",
       "0           1   0.0 -1.359807 -0.072781  2.536347  1.378155 -0.338321   \n",
       "1           2   0.0  1.191857  0.266151  0.166480  0.448154  0.060018   \n",
       "2           3   1.0 -1.358354 -1.340163  1.773209  0.379780 -0.503198   \n",
       "3           4   1.0 -0.966272 -0.185226  1.792993 -0.863291 -0.010309   \n",
       "4           5   2.0 -1.158233  0.877737  1.548718  0.403034 -0.407193   \n",
       "\n",
       "         V6        V7        V8  ...       V21       V22       V23       V24  \\\n",
       "0  0.462388  0.239599  0.098698  ... -0.018307  0.277838 -0.110474  0.066928   \n",
       "1 -0.082361 -0.078803  0.085102  ... -0.225775 -0.638672  0.101288 -0.339846   \n",
       "2  1.800499  0.791461  0.247676  ...  0.247998  0.771679  0.909412 -0.689281   \n",
       "3  1.247203  0.237609  0.377436  ... -0.108300  0.005274 -0.190321 -1.175575   \n",
       "4  0.095921  0.592941 -0.270533  ... -0.009431  0.798278 -0.137458  0.141267   \n",
       "\n",
       "        V25       V26       V27       V28  Amount  Class  \n",
       "0  0.128539 -0.189115  0.133558 -0.021053  149.62      0  \n",
       "1  0.167170  0.125895 -0.008983  0.014724    2.69      0  \n",
       "2 -0.327642 -0.139097 -0.055353 -0.059752  378.66      0  \n",
       "3  0.647376 -0.221929  0.062723  0.061458  123.50      0  \n",
       "4 -0.206010  0.502292  0.219422  0.215153   69.99      0  \n",
       "\n",
       "[5 rows x 32 columns]"
      ]
     },
     "execution_count": 414,
     "metadata": {},
     "output_type": "execute_result"
    }
   ],
   "source": [
    "df.head()"
   ]
  },
  {
   "cell_type": "code",
   "execution_count": 415,
   "id": "871311a9",
   "metadata": {},
   "outputs": [
    {
     "name": "stdout",
     "output_type": "stream",
     "text": [
      "<class 'pandas.core.frame.DataFrame'>\n",
      "RangeIndex: 284807 entries, 0 to 284806\n",
      "Data columns (total 32 columns):\n",
      " #   Column      Non-Null Count   Dtype  \n",
      "---  ------      --------------   -----  \n",
      " 0   Unnamed: 0  284807 non-null  int64  \n",
      " 1   Time        284807 non-null  float64\n",
      " 2   V1          284807 non-null  float64\n",
      " 3   V2          284807 non-null  float64\n",
      " 4   V3          284807 non-null  float64\n",
      " 5   V4          284807 non-null  float64\n",
      " 6   V5          284807 non-null  float64\n",
      " 7   V6          284807 non-null  float64\n",
      " 8   V7          284807 non-null  float64\n",
      " 9   V8          284807 non-null  float64\n",
      " 10  V9          284807 non-null  float64\n",
      " 11  V10         284807 non-null  float64\n",
      " 12  V11         284807 non-null  float64\n",
      " 13  V12         284807 non-null  float64\n",
      " 14  V13         284807 non-null  float64\n",
      " 15  V14         284807 non-null  float64\n",
      " 16  V15         284807 non-null  float64\n",
      " 17  V16         284807 non-null  float64\n",
      " 18  V17         284807 non-null  float64\n",
      " 19  V18         284807 non-null  float64\n",
      " 20  V19         284807 non-null  float64\n",
      " 21  V20         284807 non-null  float64\n",
      " 22  V21         284807 non-null  float64\n",
      " 23  V22         284807 non-null  float64\n",
      " 24  V23         284807 non-null  float64\n",
      " 25  V24         284807 non-null  float64\n",
      " 26  V25         284807 non-null  float64\n",
      " 27  V26         284807 non-null  float64\n",
      " 28  V27         284807 non-null  float64\n",
      " 29  V28         284807 non-null  float64\n",
      " 30  Amount      284807 non-null  float64\n",
      " 31  Class       284807 non-null  int64  \n",
      "dtypes: float64(30), int64(2)\n",
      "memory usage: 69.5 MB\n"
     ]
    }
   ],
   "source": [
    "df.info()"
   ]
  },
  {
   "cell_type": "markdown",
   "id": "b444de66",
   "metadata": {},
   "source": [
    "It contains only numerical input variables which are the result of a PCA transformation. Unfortunately, due to confidentiality issues, we cannot provide the original features and more background information about the data. Features V1, V2, … V28 are the principal components obtained with PCA, the only features which have not been transformed with PCA are 'Time' and 'Amount'. Feature 'Time' contains the seconds elapsed between each transaction and the first transaction in the dataset. The feature 'Amount' is the transaction Amount, this feature can be used for example-dependant cost-sensitive learning. Feature 'Class' is the response variable and it takes value 1 in case of fraud and 0 otherwise. "
   ]
  },
  {
   "cell_type": "markdown",
   "id": "f2faef66",
   "metadata": {},
   "source": [
    "### The Entire data is clean, now we explore"
   ]
  },
  {
   "cell_type": "code",
   "execution_count": 416,
   "id": "b6ee4b42",
   "metadata": {},
   "outputs": [
    {
     "data": {
      "text/plain": [
       "count    284807.000000\n",
       "mean      94813.859575\n",
       "std       47488.145955\n",
       "min           0.000000\n",
       "25%       54201.500000\n",
       "50%       84692.000000\n",
       "75%      139320.500000\n",
       "max      172792.000000\n",
       "Name: Time, dtype: float64"
      ]
     },
     "execution_count": 416,
     "metadata": {},
     "output_type": "execute_result"
    }
   ],
   "source": [
    "df[\"Time\"].describe()"
   ]
  },
  {
   "cell_type": "markdown",
   "id": "b92a1878",
   "metadata": {},
   "source": [
    "Since the Time is collected in seconds across two days, its best converted to hours for easier understanding"
   ]
  },
  {
   "cell_type": "code",
   "execution_count": 417,
   "id": "f534cbc7",
   "metadata": {},
   "outputs": [],
   "source": [
    "df[\"Time\"] = df[\"Time\"]/3600"
   ]
  },
  {
   "cell_type": "code",
   "execution_count": 418,
   "id": "d3e84f38",
   "metadata": {},
   "outputs": [
    {
     "data": {
      "text/plain": [
       "count    284807.000000\n",
       "mean         26.337183\n",
       "std          13.191152\n",
       "min           0.000000\n",
       "25%          15.055972\n",
       "50%          23.525556\n",
       "75%          38.700139\n",
       "max          47.997778\n",
       "Name: Time, dtype: float64"
      ]
     },
     "execution_count": 418,
     "metadata": {},
     "output_type": "execute_result"
    }
   ],
   "source": [
    "df[\"Time\"].describe()"
   ]
  },
  {
   "cell_type": "code",
   "execution_count": 419,
   "id": "eb15ec12",
   "metadata": {},
   "outputs": [
    {
     "data": {
      "text/plain": [
       "<Axes: >"
      ]
     },
     "execution_count": 419,
     "metadata": {},
     "output_type": "execute_result"
    },
    {
     "data": {
      "image/png": "[encoded data removed]",
      "text/plain": [
       "<Figure size 1600x1600 with 2 Axes>"
      ]
     },
     "metadata": {},
     "output_type": "display_data"
    }
   ],
   "source": [
    "fig, ax = plt.subplots(figsize=(16,16))\n",
    "sns.heatmap(df.corr(), ax=ax)"
   ]
  },
  {
   "cell_type": "markdown",
   "id": "6e9ff9b3",
   "metadata": {},
   "source": [
    "### From the graph, we see that each column is independent and are completely uncorrelated "
   ]
  },
  {
   "cell_type": "markdown",
   "id": "5e8988cc",
   "metadata": {},
   "source": [
    "#\n",
    "\n",
    "## Outlier check"
   ]
  },
  {
   "cell_type": "code",
   "execution_count": 420,
   "id": "f0ba6e27",
   "metadata": {},
   "outputs": [
    {
     "data": {
      "text/plain": [
       "<Axes: >"
      ]
     },
     "execution_count": 420,
     "metadata": {},
     "output_type": "execute_result"
    },
    {
     "data": {
      "image/png": "[encoded data removed]",
      "text/plain": [
       "<Figure size 640x480 with 1 Axes>"
      ]
     },
     "metadata": {},
     "output_type": "display_data"
    }
   ],
   "source": [
    "df['V2'].plot(kind=\"box\", vert=False)"
   ]
  },
  {
   "cell_type": "code",
   "execution_count": 421,
   "id": "2a098888",
   "metadata": {},
   "outputs": [
    {
     "data": {
      "text/plain": [
       "<Axes: >"
      ]
     },
     "execution_count": 421,
     "metadata": {},
     "output_type": "execute_result"
    },
    {
     "data": {
      "image/png": "[encoded data removed]",
      "text/plain": [
       "<Figure size 640x480 with 1 Axes>"
      ]
     },
     "metadata": {},
     "output_type": "display_data"
    }
   ],
   "source": [
    "df['V1'].plot(kind=\"box\", vert=False)"
   ]
  },
  {
   "cell_type": "code",
   "execution_count": 422,
   "id": "87e15fa2",
   "metadata": {},
   "outputs": [
    {
     "data": {
      "text/plain": [
       "<Axes: >"
      ]
     },
     "execution_count": 422,
     "metadata": {},
     "output_type": "execute_result"
    },
    {
     "data": {
      "image/png": "[encoded data removed]",
      "text/plain": [
       "<Figure size 640x480 with 1 Axes>"
      ]
     },
     "metadata": {},
     "output_type": "display_data"
    }
   ],
   "source": [
    "df['V10'].plot(kind=\"box\", vert=False)"
   ]
  },
  {
   "cell_type": "markdown",
   "id": "22db617e",
   "metadata": {},
   "source": [
    "By running through the data a little bit, we see that we are not really dealing with a data with too much of outliers. and since we do not fully know the values of the columns, we can not shorten the data by trying to remove outlier data"
   ]
  },
  {
   "cell_type": "code",
   "execution_count": 423,
   "id": "9d7d53c3",
   "metadata": {},
   "outputs": [
    {
     "data": {
      "text/html": [
       "<div>\n",
       "<style scoped>\n",
       "    .dataframe tbody tr th:only-of-type {\n",
       "        vertical-align: middle;\n",
       "    }\n",
       "\n",
       "    .dataframe tbody tr th {\n",
       "        vertical-align: top;\n",
       "    }\n",
       "\n",
       "    .dataframe thead th {\n",
       "        text-align: right;\n",
       "    }\n",
       "</style>\n",
       "<table border=\"1\" class=\"dataframe\">\n",
       "  <thead>\n",
       "    <tr style=\"text-align: right;\">\n",
       "      <th></th>\n",
       "      <th>Amount</th>\n",
       "      <th>Class</th>\n",
       "    </tr>\n",
       "  </thead>\n",
       "  <tbody>\n",
       "    <tr>\n",
       "      <th>0</th>\n",
       "      <td>149.62</td>\n",
       "      <td>0</td>\n",
       "    </tr>\n",
       "    <tr>\n",
       "      <th>1</th>\n",
       "      <td>2.69</td>\n",
       "      <td>0</td>\n",
       "    </tr>\n",
       "    <tr>\n",
       "      <th>2</th>\n",
       "      <td>378.66</td>\n",
       "      <td>0</td>\n",
       "    </tr>\n",
       "    <tr>\n",
       "      <th>3</th>\n",
       "      <td>123.50</td>\n",
       "      <td>0</td>\n",
       "    </tr>\n",
       "    <tr>\n",
       "      <th>4</th>\n",
       "      <td>69.99</td>\n",
       "      <td>0</td>\n",
       "    </tr>\n",
       "    <tr>\n",
       "      <th>...</th>\n",
       "      <td>...</td>\n",
       "      <td>...</td>\n",
       "    </tr>\n",
       "    <tr>\n",
       "      <th>284802</th>\n",
       "      <td>0.77</td>\n",
       "      <td>0</td>\n",
       "    </tr>\n",
       "    <tr>\n",
       "      <th>284803</th>\n",
       "      <td>24.79</td>\n",
       "      <td>0</td>\n",
       "    </tr>\n",
       "    <tr>\n",
       "      <th>284804</th>\n",
       "      <td>67.88</td>\n",
       "      <td>0</td>\n",
       "    </tr>\n",
       "    <tr>\n",
       "      <th>284805</th>\n",
       "      <td>10.00</td>\n",
       "      <td>0</td>\n",
       "    </tr>\n",
       "    <tr>\n",
       "      <th>284806</th>\n",
       "      <td>217.00</td>\n",
       "      <td>0</td>\n",
       "    </tr>\n",
       "  </tbody>\n",
       "</table>\n",
       "<p>284807 rows × 2 columns</p>\n",
       "</div>"
      ],
      "text/plain": [
       "        Amount  Class\n",
       "0       149.62      0\n",
       "1         2.69      0\n",
       "2       378.66      0\n",
       "3       123.50      0\n",
       "4        69.99      0\n",
       "...        ...    ...\n",
       "284802    0.77      0\n",
       "284803   24.79      0\n",
       "284804   67.88      0\n",
       "284805   10.00      0\n",
       "284806  217.00      0\n",
       "\n",
       "[284807 rows x 2 columns]"
      ]
     },
     "execution_count": 423,
     "metadata": {},
     "output_type": "execute_result"
    }
   ],
   "source": [
    "df[[\"Amount\", \"Class\"]]"
   ]
  },
  {
   "cell_type": "markdown",
   "id": "a713a4b0",
   "metadata": {},
   "source": [
    "putting out all credit card financial transactions within these two days, both fraudulent and non fraudulent"
   ]
  },
  {
   "cell_type": "code",
   "execution_count": 424,
   "id": "c5b33a0d",
   "metadata": {},
   "outputs": [],
   "source": [
    "total_transaction_sum = df.groupby(\"Class\")[[\"Amount\"]].sum()"
   ]
  },
  {
   "cell_type": "code",
   "execution_count": 425,
   "id": "2a95417a",
   "metadata": {},
   "outputs": [
    {
     "data": {
      "text/html": [
       "<div>\n",
       "<style scoped>\n",
       "    .dataframe tbody tr th:only-of-type {\n",
       "        vertical-align: middle;\n",
       "    }\n",
       "\n",
       "    .dataframe tbody tr th {\n",
       "        vertical-align: top;\n",
       "    }\n",
       "\n",
       "    .dataframe thead th {\n",
       "        text-align: right;\n",
       "    }\n",
       "</style>\n",
       "<table border=\"1\" class=\"dataframe\">\n",
       "  <thead>\n",
       "    <tr style=\"text-align: right;\">\n",
       "      <th></th>\n",
       "      <th>Amount</th>\n",
       "    </tr>\n",
       "    <tr>\n",
       "      <th>Class</th>\n",
       "      <th></th>\n",
       "    </tr>\n",
       "  </thead>\n",
       "  <tbody>\n",
       "    <tr>\n",
       "      <th>0</th>\n",
       "      <td>25102462.04</td>\n",
       "    </tr>\n",
       "    <tr>\n",
       "      <th>1</th>\n",
       "      <td>60127.97</td>\n",
       "    </tr>\n",
       "  </tbody>\n",
       "</table>\n",
       "</div>"
      ],
      "text/plain": [
       "            Amount\n",
       "Class             \n",
       "0      25102462.04\n",
       "1         60127.97"
      ]
     },
     "execution_count": 425,
     "metadata": {},
     "output_type": "execute_result"
    }
   ],
   "source": [
    "total_transaction_sum"
   ]
  },
  {
   "cell_type": "code",
   "execution_count": 426,
   "id": "b3f5fa52",
   "metadata": {},
   "outputs": [
    {
     "data": {
      "text/plain": [
       "<Axes: xlabel='Class'>"
      ]
     },
     "execution_count": 426,
     "metadata": {},
     "output_type": "execute_result"
    },
    {
     "data": {
      "image/png": "[encoded data removed]",
      "text/plain": [
       "<Figure size 640x480 with 1 Axes>"
      ]
     },
     "metadata": {},
     "output_type": "display_data"
    }
   ],
   "source": [
    "total_sum.plot(kind='bar')"
   ]
  },
  {
   "cell_type": "code",
   "execution_count": 427,
   "id": "b7590918",
   "metadata": {},
   "outputs": [],
   "source": [
    "total_credit_card_transaction = df[\"Amount\"].sum()"
   ]
  },
  {
   "cell_type": "code",
   "execution_count": 428,
   "id": "309ef3b9",
   "metadata": {},
   "outputs": [
    {
     "data": {
      "text/plain": [
       "25162590.009999998"
      ]
     },
     "execution_count": 428,
     "metadata": {},
     "output_type": "execute_result"
    }
   ],
   "source": [
    "total_credit_card_transaction"
   ]
  },
  {
   "cell_type": "markdown",
   "id": "495a5ef4",
   "metadata": {},
   "source": [
    "Sum of all credit card transaction is 25162590.009999998, which is the sumation of both fraudulent and non-fraudulent transactions"
   ]
  },
  {
   "cell_type": "markdown",
   "id": "f760ac2f",
   "metadata": {},
   "source": [
    "#"
   ]
  },
  {
   "cell_type": "markdown",
   "id": "ff905a1b",
   "metadata": {},
   "source": [
    "calculating fraud_transaction_sum_percentatage, which is the sum percentage of fraud transactions within the two days time interval"
   ]
  },
  {
   "cell_type": "code",
   "execution_count": 429,
   "id": "f94009e3",
   "metadata": {},
   "outputs": [],
   "source": [
    " fraud_transaction_sum_percentatage = (total_sum[\"Amount\"][1]/total_credit_card_transaction)*100"
   ]
  },
  {
   "cell_type": "code",
   "execution_count": 430,
   "id": "2ae7fa34",
   "metadata": {},
   "outputs": [
    {
     "data": {
      "text/plain": [
       "0.2389577939953885"
      ]
     },
     "execution_count": 430,
     "metadata": {},
     "output_type": "execute_result"
    }
   ],
   "source": [
    "fraud_transaction_sum_percentatage"
   ]
  },
  {
   "cell_type": "markdown",
   "id": "7e138729",
   "metadata": {},
   "source": [
    "#"
   ]
  },
  {
   "cell_type": "markdown",
   "id": "f2c9015c",
   "metadata": {},
   "source": [
    "calculating non_fraud_transaction_sum_percentatage, which is the percentage of transactions done by the actual owners of the cards within the two days time interval"
   ]
  },
  {
   "cell_type": "code",
   "execution_count": 431,
   "id": "69e3ef3e",
   "metadata": {},
   "outputs": [],
   "source": [
    " non_fraud_transaction_sum_percentatage = (total_sum[\"Amount\"][0]/total_credit_card_transaction)*100"
   ]
  },
  {
   "cell_type": "code",
   "execution_count": 432,
   "id": "2e12ea0e",
   "metadata": {},
   "outputs": [
    {
     "data": {
      "text/plain": [
       "99.76104220600462"
      ]
     },
     "execution_count": 432,
     "metadata": {},
     "output_type": "execute_result"
    }
   ],
   "source": [
    "non_fraud_transaction_sum_percentatage"
   ]
  },
  {
   "cell_type": "markdown",
   "id": "ca9c8980",
   "metadata": {},
   "source": [
    "## Here, we realize that 0.2% of all financial transactions carried out within the two days were fraudulent, while 99.7% were non fraudulent transactions"
   ]
  },
  {
   "cell_type": "markdown",
   "id": "3afbb86e",
   "metadata": {},
   "source": [
    "#"
   ]
  },
  {
   "cell_type": "markdown",
   "id": "fbd8a938",
   "metadata": {},
   "source": [
    "Now, Looking at the frequency of the transactions, which is the number of times both fraudulent and non- fraudelent transactions were carried out"
   ]
  },
  {
   "cell_type": "code",
   "execution_count": 433,
   "id": "b788d15b",
   "metadata": {},
   "outputs": [],
   "source": [
    "total_number_of_transaction = df[\"Class\"].count()"
   ]
  },
  {
   "cell_type": "code",
   "execution_count": 434,
   "id": "337fece1",
   "metadata": {},
   "outputs": [
    {
     "data": {
      "text/plain": [
       "284807"
      ]
     },
     "execution_count": 434,
     "metadata": {},
     "output_type": "execute_result"
    }
   ],
   "source": [
    "total_number_of_transaction"
   ]
  },
  {
   "cell_type": "code",
   "execution_count": 435,
   "id": "a925a7cb",
   "metadata": {},
   "outputs": [],
   "source": [
    "frequency = df[\"Class\"].value_counts()"
   ]
  },
  {
   "cell_type": "code",
   "execution_count": 436,
   "id": "fa23ffeb",
   "metadata": {},
   "outputs": [
    {
     "data": {
      "text/plain": [
       "Class\n",
       "0    284315\n",
       "1       492\n",
       "Name: count, dtype: int64"
      ]
     },
     "execution_count": 436,
     "metadata": {},
     "output_type": "execute_result"
    }
   ],
   "source": [
    "frequency"
   ]
  },
  {
   "cell_type": "markdown",
   "id": "a05934cc",
   "metadata": {},
   "source": [
    "492 fraudulent and 284315 non-fraudulent transactions were carried out "
   ]
  },
  {
   "cell_type": "code",
   "execution_count": 437,
   "id": "b336a4fc",
   "metadata": {},
   "outputs": [
    {
     "data": {
      "text/plain": [
       "<matplotlib.legend.Legend at 0x1facb861a50>"
      ]
     },
     "execution_count": 437,
     "metadata": {},
     "output_type": "execute_result"
    },
    {
     "data": {
      "image/png": "[encoded data removed]",
      "text/plain": [
       "<Figure size 640x480 with 1 Axes>"
      ]
     },
     "metadata": {},
     "output_type": "display_data"
    }
   ],
   "source": [
    "plt.pie(frequency, labels= [\"Non-Fraudulent\",\"Fraudulent\"],shadow=True)\n",
    "plt.legend()"
   ]
  },
  {
   "cell_type": "markdown",
   "id": "87a1b420",
   "metadata": {},
   "source": [
    "Fraudulent transactions were carried out 492 times while non-fraudulent transactions were carried out 284,315 times"
   ]
  },
  {
   "cell_type": "code",
   "execution_count": 438,
   "id": "98c49fc9",
   "metadata": {},
   "outputs": [],
   "source": [
    "Fraud_transaction_freq_percentage  = (df[\"Class\"].value_counts()[1]/total_number_of_transaction) * 100"
   ]
  },
  {
   "cell_type": "code",
   "execution_count": 439,
   "id": "62ab1fca",
   "metadata": {},
   "outputs": [
    {
     "data": {
      "text/plain": [
       "0.1727485630620034"
      ]
     },
     "execution_count": 439,
     "metadata": {},
     "output_type": "execute_result"
    }
   ],
   "source": [
    "Fraud_transaction_freq_percentage"
   ]
  },
  {
   "cell_type": "markdown",
   "id": "824ac728",
   "metadata": {},
   "source": [
    "approximately o.17 percent times of transactions carried out were fraudulent"
   ]
  },
  {
   "cell_type": "markdown",
   "id": "d1dc2699",
   "metadata": {},
   "source": [
    "#"
   ]
  },
  {
   "cell_type": "code",
   "execution_count": 440,
   "id": "278638b5",
   "metadata": {},
   "outputs": [],
   "source": [
    "Non_Fraud_transaction_freq_percentage  = (df[\"Class\"].value_counts()[0]/total_number_of_transaction) * 100"
   ]
  },
  {
   "cell_type": "code",
   "execution_count": 441,
   "id": "f9bc5135",
   "metadata": {},
   "outputs": [
    {
     "data": {
      "text/plain": [
       "99.82725143693798"
      ]
     },
     "execution_count": 441,
     "metadata": {},
     "output_type": "execute_result"
    }
   ],
   "source": [
    "Non_Fraud_transaction_freq_percentage"
   ]
  },
  {
   "cell_type": "markdown",
   "id": "bf036575",
   "metadata": {},
   "source": [
    "approximately 99.8 percent times of all transactions were non-fraudulent"
   ]
  },
  {
   "cell_type": "markdown",
   "id": "c3351b34",
   "metadata": {},
   "source": [
    "#"
   ]
  },
  {
   "cell_type": "markdown",
   "id": "0151de1b",
   "metadata": {},
   "source": [
    "## Comparing Nature of Transactions"
   ]
  },
  {
   "cell_type": "code",
   "execution_count": 468,
   "id": "3a4617e3",
   "metadata": {},
   "outputs": [],
   "source": [
    "First_ten_fraud_transactions = df[df[\"Class\"] == 1][[\"Amount\",\"Class\"]].head(10)"
   ]
  },
  {
   "cell_type": "code",
   "execution_count": 470,
   "id": "1deb2dce",
   "metadata": {},
   "outputs": [
    {
     "data": {
      "text/html": [
       "<div>\n",
       "<style scoped>\n",
       "    .dataframe tbody tr th:only-of-type {\n",
       "        vertical-align: middle;\n",
       "    }\n",
       "\n",
       "    .dataframe tbody tr th {\n",
       "        vertical-align: top;\n",
       "    }\n",
       "\n",
       "    .dataframe thead th {\n",
       "        text-align: right;\n",
       "    }\n",
       "</style>\n",
       "<table border=\"1\" class=\"dataframe\">\n",
       "  <thead>\n",
       "    <tr style=\"text-align: right;\">\n",
       "      <th></th>\n",
       "      <th>Amount</th>\n",
       "      <th>Class</th>\n",
       "    </tr>\n",
       "  </thead>\n",
       "  <tbody>\n",
       "    <tr>\n",
       "      <th>541</th>\n",
       "      <td>0.00</td>\n",
       "      <td>1</td>\n",
       "    </tr>\n",
       "    <tr>\n",
       "      <th>623</th>\n",
       "      <td>529.00</td>\n",
       "      <td>1</td>\n",
       "    </tr>\n",
       "    <tr>\n",
       "      <th>4920</th>\n",
       "      <td>239.93</td>\n",
       "      <td>1</td>\n",
       "    </tr>\n",
       "    <tr>\n",
       "      <th>6108</th>\n",
       "      <td>59.00</td>\n",
       "      <td>1</td>\n",
       "    </tr>\n",
       "    <tr>\n",
       "      <th>6329</th>\n",
       "      <td>1.00</td>\n",
       "      <td>1</td>\n",
       "    </tr>\n",
       "    <tr>\n",
       "      <th>6331</th>\n",
       "      <td>1.00</td>\n",
       "      <td>1</td>\n",
       "    </tr>\n",
       "    <tr>\n",
       "      <th>6334</th>\n",
       "      <td>1.00</td>\n",
       "      <td>1</td>\n",
       "    </tr>\n",
       "    <tr>\n",
       "      <th>6336</th>\n",
       "      <td>1.00</td>\n",
       "      <td>1</td>\n",
       "    </tr>\n",
       "    <tr>\n",
       "      <th>6338</th>\n",
       "      <td>1.00</td>\n",
       "      <td>1</td>\n",
       "    </tr>\n",
       "    <tr>\n",
       "      <th>6427</th>\n",
       "      <td>1.00</td>\n",
       "      <td>1</td>\n",
       "    </tr>\n",
       "  </tbody>\n",
       "</table>\n",
       "</div>"
      ],
      "text/plain": [
       "      Amount  Class\n",
       "541     0.00      1\n",
       "623   529.00      1\n",
       "4920  239.93      1\n",
       "6108   59.00      1\n",
       "6329    1.00      1\n",
       "6331    1.00      1\n",
       "6334    1.00      1\n",
       "6336    1.00      1\n",
       "6338    1.00      1\n",
       "6427    1.00      1"
      ]
     },
     "execution_count": 470,
     "metadata": {},
     "output_type": "execute_result"
    }
   ],
   "source": [
    "First_ten_fraud_transactions"
   ]
  },
  {
   "cell_type": "code",
   "execution_count": 471,
   "id": "b07845d7",
   "metadata": {},
   "outputs": [],
   "source": [
    "First_ten_non_fraud_transactions = df[df[\"Class\"] == 0][[\"Amount\",\"Class\"]].head(10)"
   ]
  },
  {
   "cell_type": "code",
   "execution_count": 472,
   "id": "ebe3b5b1",
   "metadata": {},
   "outputs": [
    {
     "data": {
      "text/html": [
       "<div>\n",
       "<style scoped>\n",
       "    .dataframe tbody tr th:only-of-type {\n",
       "        vertical-align: middle;\n",
       "    }\n",
       "\n",
       "    .dataframe tbody tr th {\n",
       "        vertical-align: top;\n",
       "    }\n",
       "\n",
       "    .dataframe thead th {\n",
       "        text-align: right;\n",
       "    }\n",
       "</style>\n",
       "<table border=\"1\" class=\"dataframe\">\n",
       "  <thead>\n",
       "    <tr style=\"text-align: right;\">\n",
       "      <th></th>\n",
       "      <th>Amount</th>\n",
       "      <th>Class</th>\n",
       "    </tr>\n",
       "  </thead>\n",
       "  <tbody>\n",
       "    <tr>\n",
       "      <th>0</th>\n",
       "      <td>149.62</td>\n",
       "      <td>0</td>\n",
       "    </tr>\n",
       "    <tr>\n",
       "      <th>1</th>\n",
       "      <td>2.69</td>\n",
       "      <td>0</td>\n",
       "    </tr>\n",
       "    <tr>\n",
       "      <th>2</th>\n",
       "      <td>378.66</td>\n",
       "      <td>0</td>\n",
       "    </tr>\n",
       "    <tr>\n",
       "      <th>3</th>\n",
       "      <td>123.50</td>\n",
       "      <td>0</td>\n",
       "    </tr>\n",
       "    <tr>\n",
       "      <th>4</th>\n",
       "      <td>69.99</td>\n",
       "      <td>0</td>\n",
       "    </tr>\n",
       "    <tr>\n",
       "      <th>5</th>\n",
       "      <td>3.67</td>\n",
       "      <td>0</td>\n",
       "    </tr>\n",
       "    <tr>\n",
       "      <th>6</th>\n",
       "      <td>4.99</td>\n",
       "      <td>0</td>\n",
       "    </tr>\n",
       "    <tr>\n",
       "      <th>7</th>\n",
       "      <td>40.80</td>\n",
       "      <td>0</td>\n",
       "    </tr>\n",
       "    <tr>\n",
       "      <th>8</th>\n",
       "      <td>93.20</td>\n",
       "      <td>0</td>\n",
       "    </tr>\n",
       "    <tr>\n",
       "      <th>9</th>\n",
       "      <td>3.68</td>\n",
       "      <td>0</td>\n",
       "    </tr>\n",
       "  </tbody>\n",
       "</table>\n",
       "</div>"
      ],
      "text/plain": [
       "   Amount  Class\n",
       "0  149.62      0\n",
       "1    2.69      0\n",
       "2  378.66      0\n",
       "3  123.50      0\n",
       "4   69.99      0\n",
       "5    3.67      0\n",
       "6    4.99      0\n",
       "7   40.80      0\n",
       "8   93.20      0\n",
       "9    3.68      0"
      ]
     },
     "execution_count": 472,
     "metadata": {},
     "output_type": "execute_result"
    }
   ],
   "source": [
    "First_ten_non_fraud_transactions"
   ]
  },
  {
   "cell_type": "code",
   "execution_count": null,
   "id": "b15942e2",
   "metadata": {},
   "outputs": [],
   "source": []
  },
  {
   "cell_type": "code",
   "execution_count": 476,
   "id": "5b6f08d9",
   "metadata": {},
   "outputs": [
    {
     "data": {
      "image/png": "[encoded data removed]",
      "text/plain": [
       "<Figure size 1000x500 with 1 Axes>"
      ]
     },
     "metadata": {},
     "output_type": "display_data"
    }
   ],
   "source": [
    "fig, ax = plt.subplots(figsize=(10,5))\n",
    "First_ten_fraud_transactions.plot(kind='bar', x='Class', y='Amount', color='r', ax=ax)\n",
    "plt.grid()"
   ]
  },
  {
   "cell_type": "code",
   "execution_count": 477,
   "id": "727b2941",
   "metadata": {},
   "outputs": [
    {
     "data": {
      "image/png": "[encoded data removed]",
      "text/plain": [
       "<Figure size 1000x500 with 1 Axes>"
      ]
     },
     "metadata": {},
     "output_type": "display_data"
    }
   ],
   "source": [
    "fig, ax = plt.subplots(figsize=(10,5))\n",
    "First_ten_non_fraud_transactions.plot(kind='bar', x='Class', y='Amount', color='g', ax=ax)\n",
    "plt.grid()"
   ]
  },
  {
   "cell_type": "code",
   "execution_count": 478,
   "id": "f3c8d8d2",
   "metadata": {},
   "outputs": [],
   "source": [
    "Last_ten_fraud_transactions = df[df[\"Class\"] == 1][[\"Amount\",\"Class\"]].tail(10)"
   ]
  },
  {
   "cell_type": "code",
   "execution_count": 479,
   "id": "04dbcd77",
   "metadata": {},
   "outputs": [
    {
     "data": {
      "text/html": [
       "<div>\n",
       "<style scoped>\n",
       "    .dataframe tbody tr th:only-of-type {\n",
       "        vertical-align: middle;\n",
       "    }\n",
       "\n",
       "    .dataframe tbody tr th {\n",
       "        vertical-align: top;\n",
       "    }\n",
       "\n",
       "    .dataframe thead th {\n",
       "        text-align: right;\n",
       "    }\n",
       "</style>\n",
       "<table border=\"1\" class=\"dataframe\">\n",
       "  <thead>\n",
       "    <tr style=\"text-align: right;\">\n",
       "      <th></th>\n",
       "      <th>Amount</th>\n",
       "      <th>Class</th>\n",
       "    </tr>\n",
       "  </thead>\n",
       "  <tbody>\n",
       "    <tr>\n",
       "      <th>274382</th>\n",
       "      <td>0.00</td>\n",
       "      <td>1</td>\n",
       "    </tr>\n",
       "    <tr>\n",
       "      <th>274475</th>\n",
       "      <td>39.90</td>\n",
       "      <td>1</td>\n",
       "    </tr>\n",
       "    <tr>\n",
       "      <th>275992</th>\n",
       "      <td>634.30</td>\n",
       "      <td>1</td>\n",
       "    </tr>\n",
       "    <tr>\n",
       "      <th>276071</th>\n",
       "      <td>19.95</td>\n",
       "      <td>1</td>\n",
       "    </tr>\n",
       "    <tr>\n",
       "      <th>276864</th>\n",
       "      <td>349.08</td>\n",
       "      <td>1</td>\n",
       "    </tr>\n",
       "    <tr>\n",
       "      <th>279863</th>\n",
       "      <td>390.00</td>\n",
       "      <td>1</td>\n",
       "    </tr>\n",
       "    <tr>\n",
       "      <th>280143</th>\n",
       "      <td>0.76</td>\n",
       "      <td>1</td>\n",
       "    </tr>\n",
       "    <tr>\n",
       "      <th>280149</th>\n",
       "      <td>77.89</td>\n",
       "      <td>1</td>\n",
       "    </tr>\n",
       "    <tr>\n",
       "      <th>281144</th>\n",
       "      <td>245.00</td>\n",
       "      <td>1</td>\n",
       "    </tr>\n",
       "    <tr>\n",
       "      <th>281674</th>\n",
       "      <td>42.53</td>\n",
       "      <td>1</td>\n",
       "    </tr>\n",
       "  </tbody>\n",
       "</table>\n",
       "</div>"
      ],
      "text/plain": [
       "        Amount  Class\n",
       "274382    0.00      1\n",
       "274475   39.90      1\n",
       "275992  634.30      1\n",
       "276071   19.95      1\n",
       "276864  349.08      1\n",
       "279863  390.00      1\n",
       "280143    0.76      1\n",
       "280149   77.89      1\n",
       "281144  245.00      1\n",
       "281674   42.53      1"
      ]
     },
     "execution_count": 479,
     "metadata": {},
     "output_type": "execute_result"
    }
   ],
   "source": [
    "Last_ten_fraud_transactions"
   ]
  },
  {
   "cell_type": "code",
   "execution_count": 481,
   "id": "cdc5026d",
   "metadata": {},
   "outputs": [],
   "source": [
    "Last_ten_non_fraud_transactions = df[df[\"Class\"] == 0][[\"Amount\",\"Class\"]].tail(10)"
   ]
  },
  {
   "cell_type": "code",
   "execution_count": 482,
   "id": "c96360ae",
   "metadata": {},
   "outputs": [
    {
     "data": {
      "text/html": [
       "<div>\n",
       "<style scoped>\n",
       "    .dataframe tbody tr th:only-of-type {\n",
       "        vertical-align: middle;\n",
       "    }\n",
       "\n",
       "    .dataframe tbody tr th {\n",
       "        vertical-align: top;\n",
       "    }\n",
       "\n",
       "    .dataframe thead th {\n",
       "        text-align: right;\n",
       "    }\n",
       "</style>\n",
       "<table border=\"1\" class=\"dataframe\">\n",
       "  <thead>\n",
       "    <tr style=\"text-align: right;\">\n",
       "      <th></th>\n",
       "      <th>Amount</th>\n",
       "      <th>Class</th>\n",
       "    </tr>\n",
       "  </thead>\n",
       "  <tbody>\n",
       "    <tr>\n",
       "      <th>284797</th>\n",
       "      <td>5.49</td>\n",
       "      <td>0</td>\n",
       "    </tr>\n",
       "    <tr>\n",
       "      <th>284798</th>\n",
       "      <td>24.05</td>\n",
       "      <td>0</td>\n",
       "    </tr>\n",
       "    <tr>\n",
       "      <th>284799</th>\n",
       "      <td>79.99</td>\n",
       "      <td>0</td>\n",
       "    </tr>\n",
       "    <tr>\n",
       "      <th>284800</th>\n",
       "      <td>2.68</td>\n",
       "      <td>0</td>\n",
       "    </tr>\n",
       "    <tr>\n",
       "      <th>284801</th>\n",
       "      <td>2.69</td>\n",
       "      <td>0</td>\n",
       "    </tr>\n",
       "    <tr>\n",
       "      <th>284802</th>\n",
       "      <td>0.77</td>\n",
       "      <td>0</td>\n",
       "    </tr>\n",
       "    <tr>\n",
       "      <th>284803</th>\n",
       "      <td>24.79</td>\n",
       "      <td>0</td>\n",
       "    </tr>\n",
       "    <tr>\n",
       "      <th>284804</th>\n",
       "      <td>67.88</td>\n",
       "      <td>0</td>\n",
       "    </tr>\n",
       "    <tr>\n",
       "      <th>284805</th>\n",
       "      <td>10.00</td>\n",
       "      <td>0</td>\n",
       "    </tr>\n",
       "    <tr>\n",
       "      <th>284806</th>\n",
       "      <td>217.00</td>\n",
       "      <td>0</td>\n",
       "    </tr>\n",
       "  </tbody>\n",
       "</table>\n",
       "</div>"
      ],
      "text/plain": [
       "        Amount  Class\n",
       "284797    5.49      0\n",
       "284798   24.05      0\n",
       "284799   79.99      0\n",
       "284800    2.68      0\n",
       "284801    2.69      0\n",
       "284802    0.77      0\n",
       "284803   24.79      0\n",
       "284804   67.88      0\n",
       "284805   10.00      0\n",
       "284806  217.00      0"
      ]
     },
     "execution_count": 482,
     "metadata": {},
     "output_type": "execute_result"
    }
   ],
   "source": [
    "Last_ten_non_fraud_transactions"
   ]
  },
  {
   "cell_type": "code",
   "execution_count": 483,
   "id": "a7eb89dd",
   "metadata": {},
   "outputs": [
    {
     "data": {
      "image/png": "[encoded data removed]",
      "text/plain": [
       "<Figure size 1000x500 with 1 Axes>"
      ]
     },
     "metadata": {},
     "output_type": "display_data"
    }
   ],
   "source": [
    "fig, ax = plt.subplots(figsize=(10,5))\n",
    "Last_ten_fraud_transactions.plot(kind='bar', x='Class', y='Amount', color='r', ax=ax)\n",
    "plt.grid()"
   ]
  },
  {
   "cell_type": "code",
   "execution_count": 484,
   "id": "f825f1f6",
   "metadata": {},
   "outputs": [
    {
     "data": {
      "image/png": "[encoded data removed]",
      "text/plain": [
       "<Figure size 1000x500 with 1 Axes>"
      ]
     },
     "metadata": {},
     "output_type": "display_data"
    }
   ],
   "source": [
    "fig, ax = plt.subplots(figsize=(10,5))\n",
    "Last_ten_non_fraud_transactions.plot(kind='bar', x='Class', y='Amount', color='g', ax=ax)\n",
    "plt.grid()"
   ]
  },
  {
   "cell_type": "code",
   "execution_count": null,
   "id": "b949c5d4",
   "metadata": {},
   "outputs": [],
   "source": []
  },
  {
   "cell_type": "markdown",
   "id": "30215727",
   "metadata": {},
   "source": [
    "#"
   ]
  },
  {
   "cell_type": "markdown",
   "id": "ec601dba",
   "metadata": {},
   "source": [
    "# Building Model"
   ]
  },
  {
   "cell_type": "markdown",
   "id": "707199ea",
   "metadata": {},
   "source": [
    "Since the Data is largely imbalance, we are going to have to resample using the undersampling technique. To avoid bias in the model"
   ]
  },
  {
   "cell_type": "code",
   "execution_count": 337,
   "id": "43a120ac",
   "metadata": {},
   "outputs": [],
   "source": [
    " New_df0 = df[df[\"Class\"] == 0].sample(500, random_state=42) "
   ]
  },
  {
   "cell_type": "markdown",
   "id": "ffb458ef",
   "metadata": {},
   "source": [
    "we taking 500 samples from the majority class"
   ]
  },
  {
   "cell_type": "code",
   "execution_count": 338,
   "id": "89f303d6",
   "metadata": {},
   "outputs": [
    {
     "name": "stdout",
     "output_type": "stream",
     "text": [
      "<class 'pandas.core.frame.DataFrame'>\n",
      "Index: 500 entries, 138028 to 235953\n",
      "Data columns (total 32 columns):\n",
      " #   Column      Non-Null Count  Dtype  \n",
      "---  ------      --------------  -----  \n",
      " 0   Unnamed: 0  500 non-null    int64  \n",
      " 1   Time        500 non-null    float64\n",
      " 2   V1          500 non-null    float64\n",
      " 3   V2          500 non-null    float64\n",
      " 4   V3          500 non-null    float64\n",
      " 5   V4          500 non-null    float64\n",
      " 6   V5          500 non-null    float64\n",
      " 7   V6          500 non-null    float64\n",
      " 8   V7          500 non-null    float64\n",
      " 9   V8          500 non-null    float64\n",
      " 10  V9          500 non-null    float64\n",
      " 11  V10         500 non-null    float64\n",
      " 12  V11         500 non-null    float64\n",
      " 13  V12         500 non-null    float64\n",
      " 14  V13         500 non-null    float64\n",
      " 15  V14         500 non-null    float64\n",
      " 16  V15         500 non-null    float64\n",
      " 17  V16         500 non-null    float64\n",
      " 18  V17         500 non-null    float64\n",
      " 19  V18         500 non-null    float64\n",
      " 20  V19         500 non-null    float64\n",
      " 21  V20         500 non-null    float64\n",
      " 22  V21         500 non-null    float64\n",
      " 23  V22         500 non-null    float64\n",
      " 24  V23         500 non-null    float64\n",
      " 25  V24         500 non-null    float64\n",
      " 26  V25         500 non-null    float64\n",
      " 27  V26         500 non-null    float64\n",
      " 28  V27         500 non-null    float64\n",
      " 29  V28         500 non-null    float64\n",
      " 30  Amount      500 non-null    float64\n",
      " 31  Class       500 non-null    int64  \n",
      "dtypes: float64(30), int64(2)\n",
      "memory usage: 128.9 KB\n"
     ]
    }
   ],
   "source": [
    "New_df0.info()"
   ]
  },
  {
   "cell_type": "markdown",
   "id": "8df2e833",
   "metadata": {},
   "source": [
    "#"
   ]
  },
  {
   "cell_type": "code",
   "execution_count": 339,
   "id": "8851440d",
   "metadata": {},
   "outputs": [],
   "source": [
    "New_df1 = df[df[\"Class\"]==1]"
   ]
  },
  {
   "cell_type": "markdown",
   "id": "f5b668fe",
   "metadata": {},
   "source": [
    "Since the minority class has only 492 entries we keep them all"
   ]
  },
  {
   "cell_type": "code",
   "execution_count": 340,
   "id": "d271f499",
   "metadata": {},
   "outputs": [
    {
     "name": "stdout",
     "output_type": "stream",
     "text": [
      "<class 'pandas.core.frame.DataFrame'>\n",
      "Index: 492 entries, 541 to 281674\n",
      "Data columns (total 32 columns):\n",
      " #   Column      Non-Null Count  Dtype  \n",
      "---  ------      --------------  -----  \n",
      " 0   Unnamed: 0  492 non-null    int64  \n",
      " 1   Time        492 non-null    float64\n",
      " 2   V1          492 non-null    float64\n",
      " 3   V2          492 non-null    float64\n",
      " 4   V3          492 non-null    float64\n",
      " 5   V4          492 non-null    float64\n",
      " 6   V5          492 non-null    float64\n",
      " 7   V6          492 non-null    float64\n",
      " 8   V7          492 non-null    float64\n",
      " 9   V8          492 non-null    float64\n",
      " 10  V9          492 non-null    float64\n",
      " 11  V10         492 non-null    float64\n",
      " 12  V11         492 non-null    float64\n",
      " 13  V12         492 non-null    float64\n",
      " 14  V13         492 non-null    float64\n",
      " 15  V14         492 non-null    float64\n",
      " 16  V15         492 non-null    float64\n",
      " 17  V16         492 non-null    float64\n",
      " 18  V17         492 non-null    float64\n",
      " 19  V18         492 non-null    float64\n",
      " 20  V19         492 non-null    float64\n",
      " 21  V20         492 non-null    float64\n",
      " 22  V21         492 non-null    float64\n",
      " 23  V22         492 non-null    float64\n",
      " 24  V23         492 non-null    float64\n",
      " 25  V24         492 non-null    float64\n",
      " 26  V25         492 non-null    float64\n",
      " 27  V26         492 non-null    float64\n",
      " 28  V27         492 non-null    float64\n",
      " 29  V28         492 non-null    float64\n",
      " 30  Amount      492 non-null    float64\n",
      " 31  Class       492 non-null    int64  \n",
      "dtypes: float64(30), int64(2)\n",
      "memory usage: 126.8 KB\n"
     ]
    }
   ],
   "source": [
    "New_df1.info()"
   ]
  },
  {
   "cell_type": "code",
   "execution_count": 341,
   "id": "6780acaf",
   "metadata": {},
   "outputs": [],
   "source": [
    "New_df = pd.concat([New_df0, New_df1]) # we combine the two dataframes"
   ]
  },
  {
   "cell_type": "code",
   "execution_count": 342,
   "id": "a0e68976",
   "metadata": {},
   "outputs": [],
   "source": [
    "New_df = New_df.drop(columns=[\"Unnamed: 0\"]).reset_index(drop=True) #reset indet"
   ]
  },
  {
   "cell_type": "code",
   "execution_count": 343,
   "id": "1c4b9a76",
   "metadata": {},
   "outputs": [],
   "source": [
    "New_df= New_df.sample(frac=1) #shuffle the data set"
   ]
  },
  {
   "cell_type": "code",
   "execution_count": 344,
   "id": "cda2a5cd",
   "metadata": {},
   "outputs": [
    {
     "data": {
      "text/html": [
       "<div>\n",
       "<style scoped>\n",
       "    .dataframe tbody tr th:only-of-type {\n",
       "        vertical-align: middle;\n",
       "    }\n",
       "\n",
       "    .dataframe tbody tr th {\n",
       "        vertical-align: top;\n",
       "    }\n",
       "\n",
       "    .dataframe thead th {\n",
       "        text-align: right;\n",
       "    }\n",
       "</style>\n",
       "<table border=\"1\" class=\"dataframe\">\n",
       "  <thead>\n",
       "    <tr style=\"text-align: right;\">\n",
       "      <th></th>\n",
       "      <th>Time</th>\n",
       "      <th>V1</th>\n",
       "      <th>V2</th>\n",
       "      <th>V3</th>\n",
       "      <th>V4</th>\n",
       "      <th>V5</th>\n",
       "      <th>V6</th>\n",
       "      <th>V7</th>\n",
       "      <th>V8</th>\n",
       "      <th>V9</th>\n",
       "      <th>...</th>\n",
       "      <th>V21</th>\n",
       "      <th>V22</th>\n",
       "      <th>V23</th>\n",
       "      <th>V24</th>\n",
       "      <th>V25</th>\n",
       "      <th>V26</th>\n",
       "      <th>V27</th>\n",
       "      <th>V28</th>\n",
       "      <th>Amount</th>\n",
       "      <th>Class</th>\n",
       "    </tr>\n",
       "  </thead>\n",
       "  <tbody>\n",
       "    <tr>\n",
       "      <th>984</th>\n",
       "      <td>46.341944</td>\n",
       "      <td>-2.027135</td>\n",
       "      <td>-1.131890</td>\n",
       "      <td>-1.135194</td>\n",
       "      <td>1.086963</td>\n",
       "      <td>-0.010547</td>\n",
       "      <td>0.423797</td>\n",
       "      <td>3.790880</td>\n",
       "      <td>-1.155595</td>\n",
       "      <td>-0.063434</td>\n",
       "      <td>...</td>\n",
       "      <td>-0.315105</td>\n",
       "      <td>0.575520</td>\n",
       "      <td>0.490842</td>\n",
       "      <td>0.756502</td>\n",
       "      <td>-0.142685</td>\n",
       "      <td>-0.602777</td>\n",
       "      <td>0.508712</td>\n",
       "      <td>-0.091646</td>\n",
       "      <td>634.30</td>\n",
       "      <td>1</td>\n",
       "    </tr>\n",
       "    <tr>\n",
       "      <th>775</th>\n",
       "      <td>23.690278</td>\n",
       "      <td>-6.713407</td>\n",
       "      <td>3.921104</td>\n",
       "      <td>-9.746678</td>\n",
       "      <td>5.148263</td>\n",
       "      <td>-5.151563</td>\n",
       "      <td>-2.099389</td>\n",
       "      <td>-5.937767</td>\n",
       "      <td>3.578780</td>\n",
       "      <td>-4.684952</td>\n",
       "      <td>...</td>\n",
       "      <td>0.954272</td>\n",
       "      <td>-0.451086</td>\n",
       "      <td>0.127214</td>\n",
       "      <td>-0.339450</td>\n",
       "      <td>0.394096</td>\n",
       "      <td>1.075295</td>\n",
       "      <td>1.649906</td>\n",
       "      <td>-0.394905</td>\n",
       "      <td>252.92</td>\n",
       "      <td>1</td>\n",
       "    </tr>\n",
       "    <tr>\n",
       "      <th>257</th>\n",
       "      <td>9.452222</td>\n",
       "      <td>0.295196</td>\n",
       "      <td>-0.665059</td>\n",
       "      <td>-0.166118</td>\n",
       "      <td>2.980106</td>\n",
       "      <td>-0.450200</td>\n",
       "      <td>-0.961072</td>\n",
       "      <td>1.240133</td>\n",
       "      <td>-0.475645</td>\n",
       "      <td>-1.249510</td>\n",
       "      <td>...</td>\n",
       "      <td>0.309112</td>\n",
       "      <td>-0.154699</td>\n",
       "      <td>-0.455862</td>\n",
       "      <td>0.971883</td>\n",
       "      <td>0.511751</td>\n",
       "      <td>-0.016624</td>\n",
       "      <td>-0.122369</td>\n",
       "      <td>0.097883</td>\n",
       "      <td>467.50</td>\n",
       "      <td>0</td>\n",
       "    </tr>\n",
       "    <tr>\n",
       "      <th>266</th>\n",
       "      <td>36.576944</td>\n",
       "      <td>2.058497</td>\n",
       "      <td>-1.364157</td>\n",
       "      <td>-0.226862</td>\n",
       "      <td>-0.647026</td>\n",
       "      <td>-1.357569</td>\n",
       "      <td>0.088211</td>\n",
       "      <td>-1.393876</td>\n",
       "      <td>0.207510</td>\n",
       "      <td>0.879733</td>\n",
       "      <td>...</td>\n",
       "      <td>-0.041127</td>\n",
       "      <td>-0.064040</td>\n",
       "      <td>0.344247</td>\n",
       "      <td>0.640258</td>\n",
       "      <td>-0.444159</td>\n",
       "      <td>-0.392841</td>\n",
       "      <td>0.021828</td>\n",
       "      <td>-0.030927</td>\n",
       "      <td>43.48</td>\n",
       "      <td>0</td>\n",
       "    </tr>\n",
       "    <tr>\n",
       "      <th>863</th>\n",
       "      <td>34.312500</td>\n",
       "      <td>-5.904921</td>\n",
       "      <td>4.439911</td>\n",
       "      <td>-8.631802</td>\n",
       "      <td>7.788684</td>\n",
       "      <td>-4.989580</td>\n",
       "      <td>-1.200144</td>\n",
       "      <td>-7.674060</td>\n",
       "      <td>4.125761</td>\n",
       "      <td>-5.315778</td>\n",
       "      <td>...</td>\n",
       "      <td>1.775030</td>\n",
       "      <td>1.266441</td>\n",
       "      <td>-0.199410</td>\n",
       "      <td>0.014960</td>\n",
       "      <td>-0.000019</td>\n",
       "      <td>0.544210</td>\n",
       "      <td>-1.167566</td>\n",
       "      <td>-1.206354</td>\n",
       "      <td>45.51</td>\n",
       "      <td>1</td>\n",
       "    </tr>\n",
       "    <tr>\n",
       "      <th>...</th>\n",
       "      <td>...</td>\n",
       "      <td>...</td>\n",
       "      <td>...</td>\n",
       "      <td>...</td>\n",
       "      <td>...</td>\n",
       "      <td>...</td>\n",
       "      <td>...</td>\n",
       "      <td>...</td>\n",
       "      <td>...</td>\n",
       "      <td>...</td>\n",
       "      <td>...</td>\n",
       "      <td>...</td>\n",
       "      <td>...</td>\n",
       "      <td>...</td>\n",
       "      <td>...</td>\n",
       "      <td>...</td>\n",
       "      <td>...</td>\n",
       "      <td>...</td>\n",
       "      <td>...</td>\n",
       "      <td>...</td>\n",
       "      <td>...</td>\n",
       "    </tr>\n",
       "    <tr>\n",
       "      <th>281</th>\n",
       "      <td>37.627500</td>\n",
       "      <td>2.110020</td>\n",
       "      <td>-0.567223</td>\n",
       "      <td>-1.504956</td>\n",
       "      <td>-0.670864</td>\n",
       "      <td>-0.094790</td>\n",
       "      <td>-0.612758</td>\n",
       "      <td>-0.123264</td>\n",
       "      <td>-0.229933</td>\n",
       "      <td>-1.171965</td>\n",
       "      <td>...</td>\n",
       "      <td>-0.458905</td>\n",
       "      <td>-0.899242</td>\n",
       "      <td>0.362032</td>\n",
       "      <td>0.691103</td>\n",
       "      <td>-0.342511</td>\n",
       "      <td>0.350469</td>\n",
       "      <td>-0.079475</td>\n",
       "      <td>-0.059706</td>\n",
       "      <td>30.00</td>\n",
       "      <td>0</td>\n",
       "    </tr>\n",
       "    <tr>\n",
       "      <th>665</th>\n",
       "      <td>14.113333</td>\n",
       "      <td>-9.169790</td>\n",
       "      <td>7.092197</td>\n",
       "      <td>-12.354037</td>\n",
       "      <td>4.243069</td>\n",
       "      <td>-7.176438</td>\n",
       "      <td>-3.386618</td>\n",
       "      <td>-8.058012</td>\n",
       "      <td>6.442909</td>\n",
       "      <td>-2.412987</td>\n",
       "      <td>...</td>\n",
       "      <td>0.926157</td>\n",
       "      <td>-0.817706</td>\n",
       "      <td>-0.150434</td>\n",
       "      <td>-0.039383</td>\n",
       "      <td>0.485640</td>\n",
       "      <td>-0.264325</td>\n",
       "      <td>1.159690</td>\n",
       "      <td>0.232758</td>\n",
       "      <td>99.99</td>\n",
       "      <td>1</td>\n",
       "    </tr>\n",
       "    <tr>\n",
       "      <th>29</th>\n",
       "      <td>43.198889</td>\n",
       "      <td>1.911465</td>\n",
       "      <td>0.450070</td>\n",
       "      <td>-0.574955</td>\n",
       "      <td>3.920566</td>\n",
       "      <td>0.291037</td>\n",
       "      <td>-0.052380</td>\n",
       "      <td>0.136529</td>\n",
       "      <td>-0.100840</td>\n",
       "      <td>-0.615584</td>\n",
       "      <td>...</td>\n",
       "      <td>0.068425</td>\n",
       "      <td>0.370269</td>\n",
       "      <td>0.060278</td>\n",
       "      <td>-0.115442</td>\n",
       "      <td>0.148696</td>\n",
       "      <td>0.104013</td>\n",
       "      <td>-0.027900</td>\n",
       "      <td>-0.051377</td>\n",
       "      <td>11.37</td>\n",
       "      <td>0</td>\n",
       "    </tr>\n",
       "    <tr>\n",
       "      <th>499</th>\n",
       "      <td>41.281389</td>\n",
       "      <td>2.037607</td>\n",
       "      <td>0.019037</td>\n",
       "      <td>-1.319619</td>\n",
       "      <td>0.330859</td>\n",
       "      <td>0.133902</td>\n",
       "      <td>-1.049289</td>\n",
       "      <td>0.247531</td>\n",
       "      <td>-0.346221</td>\n",
       "      <td>0.458602</td>\n",
       "      <td>...</td>\n",
       "      <td>0.280132</td>\n",
       "      <td>0.957579</td>\n",
       "      <td>0.072367</td>\n",
       "      <td>1.141207</td>\n",
       "      <td>0.244270</td>\n",
       "      <td>-0.164628</td>\n",
       "      <td>-0.017974</td>\n",
       "      <td>-0.045952</td>\n",
       "      <td>8.49</td>\n",
       "      <td>0</td>\n",
       "    </tr>\n",
       "    <tr>\n",
       "      <th>615</th>\n",
       "      <td>11.436111</td>\n",
       "      <td>-6.498086</td>\n",
       "      <td>4.750515</td>\n",
       "      <td>-8.966558</td>\n",
       "      <td>7.098854</td>\n",
       "      <td>-6.958376</td>\n",
       "      <td>-2.822126</td>\n",
       "      <td>-10.333406</td>\n",
       "      <td>4.031907</td>\n",
       "      <td>-6.648778</td>\n",
       "      <td>...</td>\n",
       "      <td>2.158143</td>\n",
       "      <td>0.111510</td>\n",
       "      <td>0.216414</td>\n",
       "      <td>0.584661</td>\n",
       "      <td>0.760360</td>\n",
       "      <td>0.081972</td>\n",
       "      <td>1.415068</td>\n",
       "      <td>0.035124</td>\n",
       "      <td>83.38</td>\n",
       "      <td>1</td>\n",
       "    </tr>\n",
       "  </tbody>\n",
       "</table>\n",
       "<p>992 rows × 31 columns</p>\n",
       "</div>"
      ],
      "text/plain": [
       "          Time        V1        V2         V3        V4        V5        V6  \\\n",
       "984  46.341944 -2.027135 -1.131890  -1.135194  1.086963 -0.010547  0.423797   \n",
       "775  23.690278 -6.713407  3.921104  -9.746678  5.148263 -5.151563 -2.099389   \n",
       "257   9.452222  0.295196 -0.665059  -0.166118  2.980106 -0.450200 -0.961072   \n",
       "266  36.576944  2.058497 -1.364157  -0.226862 -0.647026 -1.357569  0.088211   \n",
       "863  34.312500 -5.904921  4.439911  -8.631802  7.788684 -4.989580 -1.200144   \n",
       "..         ...       ...       ...        ...       ...       ...       ...   \n",
       "281  37.627500  2.110020 -0.567223  -1.504956 -0.670864 -0.094790 -0.612758   \n",
       "665  14.113333 -9.169790  7.092197 -12.354037  4.243069 -7.176438 -3.386618   \n",
       "29   43.198889  1.911465  0.450070  -0.574955  3.920566  0.291037 -0.052380   \n",
       "499  41.281389  2.037607  0.019037  -1.319619  0.330859  0.133902 -1.049289   \n",
       "615  11.436111 -6.498086  4.750515  -8.966558  7.098854 -6.958376 -2.822126   \n",
       "\n",
       "            V7        V8        V9  ...       V21       V22       V23  \\\n",
       "984   3.790880 -1.155595 -0.063434  ... -0.315105  0.575520  0.490842   \n",
       "775  -5.937767  3.578780 -4.684952  ...  0.954272 -0.451086  0.127214   \n",
       "257   1.240133 -0.475645 -1.249510  ...  0.309112 -0.154699 -0.455862   \n",
       "266  -1.393876  0.207510  0.879733  ... -0.041127 -0.064040  0.344247   \n",
       "863  -7.674060  4.125761 -5.315778  ...  1.775030  1.266441 -0.199410   \n",
       "..         ...       ...       ...  ...       ...       ...       ...   \n",
       "281  -0.123264 -0.229933 -1.171965  ... -0.458905 -0.899242  0.362032   \n",
       "665  -8.058012  6.442909 -2.412987  ...  0.926157 -0.817706 -0.150434   \n",
       "29    0.136529 -0.100840 -0.615584  ...  0.068425  0.370269  0.060278   \n",
       "499   0.247531 -0.346221  0.458602  ...  0.280132  0.957579  0.072367   \n",
       "615 -10.333406  4.031907 -6.648778  ...  2.158143  0.111510  0.216414   \n",
       "\n",
       "          V24       V25       V26       V27       V28  Amount  Class  \n",
       "984  0.756502 -0.142685 -0.602777  0.508712 -0.091646  634.30      1  \n",
       "775 -0.339450  0.394096  1.075295  1.649906 -0.394905  252.92      1  \n",
       "257  0.971883  0.511751 -0.016624 -0.122369  0.097883  467.50      0  \n",
       "266  0.640258 -0.444159 -0.392841  0.021828 -0.030927   43.48      0  \n",
       "863  0.014960 -0.000019  0.544210 -1.167566 -1.206354   45.51      1  \n",
       "..        ...       ...       ...       ...       ...     ...    ...  \n",
       "281  0.691103 -0.342511  0.350469 -0.079475 -0.059706   30.00      0  \n",
       "665 -0.039383  0.485640 -0.264325  1.159690  0.232758   99.99      1  \n",
       "29  -0.115442  0.148696  0.104013 -0.027900 -0.051377   11.37      0  \n",
       "499  1.141207  0.244270 -0.164628 -0.017974 -0.045952    8.49      0  \n",
       "615  0.584661  0.760360  0.081972  1.415068  0.035124   83.38      1  \n",
       "\n",
       "[992 rows x 31 columns]"
      ]
     },
     "execution_count": 344,
     "metadata": {},
     "output_type": "execute_result"
    }
   ],
   "source": [
    "New_df"
   ]
  },
  {
   "cell_type": "markdown",
   "id": "c1ad5460",
   "metadata": {},
   "source": [
    "#"
   ]
  },
  {
   "cell_type": "code",
   "execution_count": 345,
   "id": "1f9c3994",
   "metadata": {},
   "outputs": [
    {
     "data": {
      "text/plain": [
       "<matplotlib.legend.Legend at 0x1fac9476410>"
      ]
     },
     "execution_count": 345,
     "metadata": {},
     "output_type": "execute_result"
    },
    {
     "data": {
      "image/png": "[encoded data removed]",
      "text/plain": [
       "<Figure size 640x480 with 1 Axes>"
      ]
     },
     "metadata": {},
     "output_type": "display_data"
    }
   ],
   "source": [
    "New_df[\"Class\"].value_counts().plot(kind=\"bar\", color=[\"b\",\"r\"])\n",
    "plt.legend()"
   ]
  },
  {
   "cell_type": "markdown",
   "id": "620a5929",
   "metadata": {},
   "source": [
    "### Model Selection"
   ]
  },
  {
   "cell_type": "markdown",
   "id": "a41e40a4",
   "metadata": {},
   "source": [
    "Due to the nature of the problem we are faced with, we are going to be working with a couple of classification models, evaluating their performance and see which is better."
   ]
  },
  {
   "cell_type": "markdown",
   "id": "dd5baf2d",
   "metadata": {},
   "source": [
    "### Firstly, Logistics Regression."
   ]
  },
  {
   "cell_type": "markdown",
   "id": "7297e816",
   "metadata": {},
   "source": [
    "its Simple and yet efficient, its good for establishing baseline and also very straight forward "
   ]
  },
  {
   "cell_type": "code",
   "execution_count": 346,
   "id": "096aeabe",
   "metadata": {},
   "outputs": [],
   "source": [
    "X = New_df.drop(columns=\"Class\")"
   ]
  },
  {
   "cell_type": "code",
   "execution_count": 347,
   "id": "4c4a8cfd",
   "metadata": {},
   "outputs": [
    {
     "data": {
      "text/html": [
       "<div>\n",
       "<style scoped>\n",
       "    .dataframe tbody tr th:only-of-type {\n",
       "        vertical-align: middle;\n",
       "    }\n",
       "\n",
       "    .dataframe tbody tr th {\n",
       "        vertical-align: top;\n",
       "    }\n",
       "\n",
       "    .dataframe thead th {\n",
       "        text-align: right;\n",
       "    }\n",
       "</style>\n",
       "<table border=\"1\" class=\"dataframe\">\n",
       "  <thead>\n",
       "    <tr style=\"text-align: right;\">\n",
       "      <th></th>\n",
       "      <th>Time</th>\n",
       "      <th>V1</th>\n",
       "      <th>V2</th>\n",
       "      <th>V3</th>\n",
       "      <th>V4</th>\n",
       "      <th>V5</th>\n",
       "      <th>V6</th>\n",
       "      <th>V7</th>\n",
       "      <th>V8</th>\n",
       "      <th>V9</th>\n",
       "      <th>...</th>\n",
       "      <th>V20</th>\n",
       "      <th>V21</th>\n",
       "      <th>V22</th>\n",
       "      <th>V23</th>\n",
       "      <th>V24</th>\n",
       "      <th>V25</th>\n",
       "      <th>V26</th>\n",
       "      <th>V27</th>\n",
       "      <th>V28</th>\n",
       "      <th>Amount</th>\n",
       "    </tr>\n",
       "  </thead>\n",
       "  <tbody>\n",
       "    <tr>\n",
       "      <th>984</th>\n",
       "      <td>46.341944</td>\n",
       "      <td>-2.027135</td>\n",
       "      <td>-1.131890</td>\n",
       "      <td>-1.135194</td>\n",
       "      <td>1.086963</td>\n",
       "      <td>-0.010547</td>\n",
       "      <td>0.423797</td>\n",
       "      <td>3.790880</td>\n",
       "      <td>-1.155595</td>\n",
       "      <td>-0.063434</td>\n",
       "      <td>...</td>\n",
       "      <td>0.033804</td>\n",
       "      <td>-0.315105</td>\n",
       "      <td>0.575520</td>\n",
       "      <td>0.490842</td>\n",
       "      <td>0.756502</td>\n",
       "      <td>-0.142685</td>\n",
       "      <td>-0.602777</td>\n",
       "      <td>0.508712</td>\n",
       "      <td>-0.091646</td>\n",
       "      <td>634.30</td>\n",
       "    </tr>\n",
       "    <tr>\n",
       "      <th>775</th>\n",
       "      <td>23.690278</td>\n",
       "      <td>-6.713407</td>\n",
       "      <td>3.921104</td>\n",
       "      <td>-9.746678</td>\n",
       "      <td>5.148263</td>\n",
       "      <td>-5.151563</td>\n",
       "      <td>-2.099389</td>\n",
       "      <td>-5.937767</td>\n",
       "      <td>3.578780</td>\n",
       "      <td>-4.684952</td>\n",
       "      <td>...</td>\n",
       "      <td>0.135711</td>\n",
       "      <td>0.954272</td>\n",
       "      <td>-0.451086</td>\n",
       "      <td>0.127214</td>\n",
       "      <td>-0.339450</td>\n",
       "      <td>0.394096</td>\n",
       "      <td>1.075295</td>\n",
       "      <td>1.649906</td>\n",
       "      <td>-0.394905</td>\n",
       "      <td>252.92</td>\n",
       "    </tr>\n",
       "    <tr>\n",
       "      <th>257</th>\n",
       "      <td>9.452222</td>\n",
       "      <td>0.295196</td>\n",
       "      <td>-0.665059</td>\n",
       "      <td>-0.166118</td>\n",
       "      <td>2.980106</td>\n",
       "      <td>-0.450200</td>\n",
       "      <td>-0.961072</td>\n",
       "      <td>1.240133</td>\n",
       "      <td>-0.475645</td>\n",
       "      <td>-1.249510</td>\n",
       "      <td>...</td>\n",
       "      <td>0.806711</td>\n",
       "      <td>0.309112</td>\n",
       "      <td>-0.154699</td>\n",
       "      <td>-0.455862</td>\n",
       "      <td>0.971883</td>\n",
       "      <td>0.511751</td>\n",
       "      <td>-0.016624</td>\n",
       "      <td>-0.122369</td>\n",
       "      <td>0.097883</td>\n",
       "      <td>467.50</td>\n",
       "    </tr>\n",
       "    <tr>\n",
       "      <th>266</th>\n",
       "      <td>36.576944</td>\n",
       "      <td>2.058497</td>\n",
       "      <td>-1.364157</td>\n",
       "      <td>-0.226862</td>\n",
       "      <td>-0.647026</td>\n",
       "      <td>-1.357569</td>\n",
       "      <td>0.088211</td>\n",
       "      <td>-1.393876</td>\n",
       "      <td>0.207510</td>\n",
       "      <td>0.879733</td>\n",
       "      <td>...</td>\n",
       "      <td>-0.052779</td>\n",
       "      <td>-0.041127</td>\n",
       "      <td>-0.064040</td>\n",
       "      <td>0.344247</td>\n",
       "      <td>0.640258</td>\n",
       "      <td>-0.444159</td>\n",
       "      <td>-0.392841</td>\n",
       "      <td>0.021828</td>\n",
       "      <td>-0.030927</td>\n",
       "      <td>43.48</td>\n",
       "    </tr>\n",
       "    <tr>\n",
       "      <th>863</th>\n",
       "      <td>34.312500</td>\n",
       "      <td>-5.904921</td>\n",
       "      <td>4.439911</td>\n",
       "      <td>-8.631802</td>\n",
       "      <td>7.788684</td>\n",
       "      <td>-4.989580</td>\n",
       "      <td>-1.200144</td>\n",
       "      <td>-7.674060</td>\n",
       "      <td>4.125761</td>\n",
       "      <td>-5.315778</td>\n",
       "      <td>...</td>\n",
       "      <td>-0.505608</td>\n",
       "      <td>1.775030</td>\n",
       "      <td>1.266441</td>\n",
       "      <td>-0.199410</td>\n",
       "      <td>0.014960</td>\n",
       "      <td>-0.000019</td>\n",
       "      <td>0.544210</td>\n",
       "      <td>-1.167566</td>\n",
       "      <td>-1.206354</td>\n",
       "      <td>45.51</td>\n",
       "    </tr>\n",
       "    <tr>\n",
       "      <th>...</th>\n",
       "      <td>...</td>\n",
       "      <td>...</td>\n",
       "      <td>...</td>\n",
       "      <td>...</td>\n",
       "      <td>...</td>\n",
       "      <td>...</td>\n",
       "      <td>...</td>\n",
       "      <td>...</td>\n",
       "      <td>...</td>\n",
       "      <td>...</td>\n",
       "      <td>...</td>\n",
       "      <td>...</td>\n",
       "      <td>...</td>\n",
       "      <td>...</td>\n",
       "      <td>...</td>\n",
       "      <td>...</td>\n",
       "      <td>...</td>\n",
       "      <td>...</td>\n",
       "      <td>...</td>\n",
       "      <td>...</td>\n",
       "      <td>...</td>\n",
       "    </tr>\n",
       "    <tr>\n",
       "      <th>281</th>\n",
       "      <td>37.627500</td>\n",
       "      <td>2.110020</td>\n",
       "      <td>-0.567223</td>\n",
       "      <td>-1.504956</td>\n",
       "      <td>-0.670864</td>\n",
       "      <td>-0.094790</td>\n",
       "      <td>-0.612758</td>\n",
       "      <td>-0.123264</td>\n",
       "      <td>-0.229933</td>\n",
       "      <td>-1.171965</td>\n",
       "      <td>...</td>\n",
       "      <td>-0.493764</td>\n",
       "      <td>-0.458905</td>\n",
       "      <td>-0.899242</td>\n",
       "      <td>0.362032</td>\n",
       "      <td>0.691103</td>\n",
       "      <td>-0.342511</td>\n",
       "      <td>0.350469</td>\n",
       "      <td>-0.079475</td>\n",
       "      <td>-0.059706</td>\n",
       "      <td>30.00</td>\n",
       "    </tr>\n",
       "    <tr>\n",
       "      <th>665</th>\n",
       "      <td>14.113333</td>\n",
       "      <td>-9.169790</td>\n",
       "      <td>7.092197</td>\n",
       "      <td>-12.354037</td>\n",
       "      <td>4.243069</td>\n",
       "      <td>-7.176438</td>\n",
       "      <td>-3.386618</td>\n",
       "      <td>-8.058012</td>\n",
       "      <td>6.442909</td>\n",
       "      <td>-2.412987</td>\n",
       "      <td>...</td>\n",
       "      <td>0.816652</td>\n",
       "      <td>0.926157</td>\n",
       "      <td>-0.817706</td>\n",
       "      <td>-0.150434</td>\n",
       "      <td>-0.039383</td>\n",
       "      <td>0.485640</td>\n",
       "      <td>-0.264325</td>\n",
       "      <td>1.159690</td>\n",
       "      <td>0.232758</td>\n",
       "      <td>99.99</td>\n",
       "    </tr>\n",
       "    <tr>\n",
       "      <th>29</th>\n",
       "      <td>43.198889</td>\n",
       "      <td>1.911465</td>\n",
       "      <td>0.450070</td>\n",
       "      <td>-0.574955</td>\n",
       "      <td>3.920566</td>\n",
       "      <td>0.291037</td>\n",
       "      <td>-0.052380</td>\n",
       "      <td>0.136529</td>\n",
       "      <td>-0.100840</td>\n",
       "      <td>-0.615584</td>\n",
       "      <td>...</td>\n",
       "      <td>-0.300017</td>\n",
       "      <td>0.068425</td>\n",
       "      <td>0.370269</td>\n",
       "      <td>0.060278</td>\n",
       "      <td>-0.115442</td>\n",
       "      <td>0.148696</td>\n",
       "      <td>0.104013</td>\n",
       "      <td>-0.027900</td>\n",
       "      <td>-0.051377</td>\n",
       "      <td>11.37</td>\n",
       "    </tr>\n",
       "    <tr>\n",
       "      <th>499</th>\n",
       "      <td>41.281389</td>\n",
       "      <td>2.037607</td>\n",
       "      <td>0.019037</td>\n",
       "      <td>-1.319619</td>\n",
       "      <td>0.330859</td>\n",
       "      <td>0.133902</td>\n",
       "      <td>-1.049289</td>\n",
       "      <td>0.247531</td>\n",
       "      <td>-0.346221</td>\n",
       "      <td>0.458602</td>\n",
       "      <td>...</td>\n",
       "      <td>-0.176971</td>\n",
       "      <td>0.280132</td>\n",
       "      <td>0.957579</td>\n",
       "      <td>0.072367</td>\n",
       "      <td>1.141207</td>\n",
       "      <td>0.244270</td>\n",
       "      <td>-0.164628</td>\n",
       "      <td>-0.017974</td>\n",
       "      <td>-0.045952</td>\n",
       "      <td>8.49</td>\n",
       "    </tr>\n",
       "    <tr>\n",
       "      <th>615</th>\n",
       "      <td>11.436111</td>\n",
       "      <td>-6.498086</td>\n",
       "      <td>4.750515</td>\n",
       "      <td>-8.966558</td>\n",
       "      <td>7.098854</td>\n",
       "      <td>-6.958376</td>\n",
       "      <td>-2.822126</td>\n",
       "      <td>-10.333406</td>\n",
       "      <td>4.031907</td>\n",
       "      <td>-6.648778</td>\n",
       "      <td>...</td>\n",
       "      <td>0.568338</td>\n",
       "      <td>2.158143</td>\n",
       "      <td>0.111510</td>\n",
       "      <td>0.216414</td>\n",
       "      <td>0.584661</td>\n",
       "      <td>0.760360</td>\n",
       "      <td>0.081972</td>\n",
       "      <td>1.415068</td>\n",
       "      <td>0.035124</td>\n",
       "      <td>83.38</td>\n",
       "    </tr>\n",
       "  </tbody>\n",
       "</table>\n",
       "<p>992 rows × 30 columns</p>\n",
       "</div>"
      ],
      "text/plain": [
       "          Time        V1        V2         V3        V4        V5        V6  \\\n",
       "984  46.341944 -2.027135 -1.131890  -1.135194  1.086963 -0.010547  0.423797   \n",
       "775  23.690278 -6.713407  3.921104  -9.746678  5.148263 -5.151563 -2.099389   \n",
       "257   9.452222  0.295196 -0.665059  -0.166118  2.980106 -0.450200 -0.961072   \n",
       "266  36.576944  2.058497 -1.364157  -0.226862 -0.647026 -1.357569  0.088211   \n",
       "863  34.312500 -5.904921  4.439911  -8.631802  7.788684 -4.989580 -1.200144   \n",
       "..         ...       ...       ...        ...       ...       ...       ...   \n",
       "281  37.627500  2.110020 -0.567223  -1.504956 -0.670864 -0.094790 -0.612758   \n",
       "665  14.113333 -9.169790  7.092197 -12.354037  4.243069 -7.176438 -3.386618   \n",
       "29   43.198889  1.911465  0.450070  -0.574955  3.920566  0.291037 -0.052380   \n",
       "499  41.281389  2.037607  0.019037  -1.319619  0.330859  0.133902 -1.049289   \n",
       "615  11.436111 -6.498086  4.750515  -8.966558  7.098854 -6.958376 -2.822126   \n",
       "\n",
       "            V7        V8        V9  ...       V20       V21       V22  \\\n",
       "984   3.790880 -1.155595 -0.063434  ...  0.033804 -0.315105  0.575520   \n",
       "775  -5.937767  3.578780 -4.684952  ...  0.135711  0.954272 -0.451086   \n",
       "257   1.240133 -0.475645 -1.249510  ...  0.806711  0.309112 -0.154699   \n",
       "266  -1.393876  0.207510  0.879733  ... -0.052779 -0.041127 -0.064040   \n",
       "863  -7.674060  4.125761 -5.315778  ... -0.505608  1.775030  1.266441   \n",
       "..         ...       ...       ...  ...       ...       ...       ...   \n",
       "281  -0.123264 -0.229933 -1.171965  ... -0.493764 -0.458905 -0.899242   \n",
       "665  -8.058012  6.442909 -2.412987  ...  0.816652  0.926157 -0.817706   \n",
       "29    0.136529 -0.100840 -0.615584  ... -0.300017  0.068425  0.370269   \n",
       "499   0.247531 -0.346221  0.458602  ... -0.176971  0.280132  0.957579   \n",
       "615 -10.333406  4.031907 -6.648778  ...  0.568338  2.158143  0.111510   \n",
       "\n",
       "          V23       V24       V25       V26       V27       V28  Amount  \n",
       "984  0.490842  0.756502 -0.142685 -0.602777  0.508712 -0.091646  634.30  \n",
       "775  0.127214 -0.339450  0.394096  1.075295  1.649906 -0.394905  252.92  \n",
       "257 -0.455862  0.971883  0.511751 -0.016624 -0.122369  0.097883  467.50  \n",
       "266  0.344247  0.640258 -0.444159 -0.392841  0.021828 -0.030927   43.48  \n",
       "863 -0.199410  0.014960 -0.000019  0.544210 -1.167566 -1.206354   45.51  \n",
       "..        ...       ...       ...       ...       ...       ...     ...  \n",
       "281  0.362032  0.691103 -0.342511  0.350469 -0.079475 -0.059706   30.00  \n",
       "665 -0.150434 -0.039383  0.485640 -0.264325  1.159690  0.232758   99.99  \n",
       "29   0.060278 -0.115442  0.148696  0.104013 -0.027900 -0.051377   11.37  \n",
       "499  0.072367  1.141207  0.244270 -0.164628 -0.017974 -0.045952    8.49  \n",
       "615  0.216414  0.584661  0.760360  0.081972  1.415068  0.035124   83.38  \n",
       "\n",
       "[992 rows x 30 columns]"
      ]
     },
     "execution_count": 347,
     "metadata": {},
     "output_type": "execute_result"
    }
   ],
   "source": [
    "X"
   ]
  },
  {
   "cell_type": "code",
   "execution_count": 348,
   "id": "3948307a",
   "metadata": {},
   "outputs": [],
   "source": [
    "y=New_df[\"Class\"]"
   ]
  },
  {
   "cell_type": "code",
   "execution_count": 349,
   "id": "6d370e5a",
   "metadata": {},
   "outputs": [
    {
     "data": {
      "text/plain": [
       "984    1\n",
       "775    1\n",
       "257    0\n",
       "266    0\n",
       "863    1\n",
       "      ..\n",
       "281    0\n",
       "665    1\n",
       "29     0\n",
       "499    0\n",
       "615    1\n",
       "Name: Class, Length: 992, dtype: int64"
      ]
     },
     "execution_count": 349,
     "metadata": {},
     "output_type": "execute_result"
    }
   ],
   "source": [
    "y"
   ]
  },
  {
   "cell_type": "code",
   "execution_count": 350,
   "id": "b3d4b701",
   "metadata": {},
   "outputs": [],
   "source": [
    "from sklearn.model_selection import train_test_split"
   ]
  },
  {
   "cell_type": "code",
   "execution_count": 351,
   "id": "42eee4b8",
   "metadata": {},
   "outputs": [],
   "source": [
    " X_train, X_test, y_train, y_test = train_test_split(X, y , test_size=0.3, random_state=42)"
   ]
  },
  {
   "cell_type": "code",
   "execution_count": 352,
   "id": "10c36b5a",
   "metadata": {},
   "outputs": [],
   "source": [
    "from sklearn.linear_model import LogisticRegression"
   ]
  },
  {
   "cell_type": "code",
   "execution_count": 353,
   "id": "f6e505db",
   "metadata": {},
   "outputs": [],
   "source": [
    "log_reg_model = LogisticRegression()"
   ]
  },
  {
   "cell_type": "code",
   "execution_count": 354,
   "id": "06cd7014",
   "metadata": {},
   "outputs": [
    {
     "name": "stderr",
     "output_type": "stream",
     "text": [
      "C:\\Users\\HP\\anaconda3\\Lib\\site-packages\\sklearn\\linear_model\\_logistic.py:460: ConvergenceWarning: lbfgs failed to converge (status=1):\n",
      "STOP: TOTAL NO. of ITERATIONS REACHED LIMIT.\n",
      "\n",
      "Increase the number of iterations (max_iter) or scale the data as shown in:\n",
      "    https://scikit-learn.org/stable/modules/preprocessing.html\n",
      "Please also refer to the documentation for alternative solver options:\n",
      "    https://scikit-learn.org/stable/modules/linear_model.html#logistic-regression\n",
      "  n_iter_i = _check_optimize_result(\n"
     ]
    },
    {
     "data": {
      "text/html": [
       "<style>#sk-container-id-9 {color: black;}#sk-container-id-9 pre{padding: 0;}#sk-container-id-9 div.sk-toggleable {background-color: white;}#sk-container-id-9 label.sk-toggleable__label {cursor: pointer;display: block;width: 100%;margin-bottom: 0;padding: 0.3em;box-sizing: border-box;text-align: center;}#sk-container-id-9 label.sk-toggleable__label-arrow:before {content: \"▸\";float: left;margin-right: 0.25em;color: #696969;}#sk-container-id-9 label.sk-toggleable__label-arrow:hover:before {color: black;}#sk-container-id-9 div.sk-estimator:hover label.sk-toggleable__label-arrow:before {color: black;}#sk-container-id-9 div.sk-toggleable__content {max-height: 0;max-width: 0;overflow: hidden;text-align: left;background-color: #f0f8ff;}#sk-container-id-9 div.sk-toggleable__content pre {margin: 0.2em;color: black;border-radius: 0.25em;background-color: #f0f8ff;}#sk-container-id-9 input.sk-toggleable__control:checked~div.sk-toggleable__content {max-height: 200px;max-width: 100%;overflow: auto;}#sk-container-id-9 input.sk-toggleable__control:checked~label.sk-toggleable__label-arrow:before {content: \"▾\";}#sk-container-id-9 div.sk-estimator input.sk-toggleable__control:checked~label.sk-toggleable__label {background-color: #d4ebff;}#sk-container-id-9 div.sk-label input.sk-toggleable__control:checked~label.sk-toggleable__label {background-color: #d4ebff;}#sk-container-id-9 input.sk-hidden--visually {border: 0;clip: rect(1px 1px 1px 1px);clip: rect(1px, 1px, 1px, 1px);height: 1px;margin: -1px;overflow: hidden;padding: 0;position: absolute;width: 1px;}#sk-container-id-9 div.sk-estimator {font-family: monospace;background-color: #f0f8ff;border: 1px dotted black;border-radius: 0.25em;box-sizing: border-box;margin-bottom: 0.5em;}#sk-container-id-9 div.sk-estimator:hover {background-color: #d4ebff;}#sk-container-id-9 div.sk-parallel-item::after {content: \"\";width: 100%;border-bottom: 1px solid gray;flex-grow: 1;}#sk-container-id-9 div.sk-label:hover label.sk-toggleable__label {background-color: #d4ebff;}#sk-container-id-9 div.sk-serial::before {content: \"\";position: absolute;border-left: 1px solid gray;box-sizing: border-box;top: 0;bottom: 0;left: 50%;z-index: 0;}#sk-container-id-9 div.sk-serial {display: flex;flex-direction: column;align-items: center;background-color: white;padding-right: 0.2em;padding-left: 0.2em;position: relative;}#sk-container-id-9 div.sk-item {position: relative;z-index: 1;}#sk-container-id-9 div.sk-parallel {display: flex;align-items: stretch;justify-content: center;background-color: white;position: relative;}#sk-container-id-9 div.sk-item::before, #sk-container-id-9 div.sk-parallel-item::before {content: \"\";position: absolute;border-left: 1px solid gray;box-sizing: border-box;top: 0;bottom: 0;left: 50%;z-index: -1;}#sk-container-id-9 div.sk-parallel-item {display: flex;flex-direction: column;z-index: 1;position: relative;background-color: white;}#sk-container-id-9 div.sk-parallel-item:first-child::after {align-self: flex-end;width: 50%;}#sk-container-id-9 div.sk-parallel-item:last-child::after {align-self: flex-start;width: 50%;}#sk-container-id-9 div.sk-parallel-item:only-child::after {width: 0;}#sk-container-id-9 div.sk-dashed-wrapped {border: 1px dashed gray;margin: 0 0.4em 0.5em 0.4em;box-sizing: border-box;padding-bottom: 0.4em;background-color: white;}#sk-container-id-9 div.sk-label label {font-family: monospace;font-weight: bold;display: inline-block;line-height: 1.2em;}#sk-container-id-9 div.sk-label-container {text-align: center;}#sk-container-id-9 div.sk-container {/* jupyter's `normalize.less` sets `[hidden] { display: none; }` but bootstrap.min.css set `[hidden] { display: none !important; }` so we also need the `!important` here to be able to override the default hidden behavior on the sphinx rendered scikit-learn.org. See: https://github.com/scikit-learn/scikit-learn/issues/21755 */display: inline-block !important;position: relative;}#sk-container-id-9 div.sk-text-repr-fallback {display: none;}</style><div id=\"sk-container-id-9\" class=\"sk-top-container\"><div class=\"sk-text-repr-fallback\"><pre>LogisticRegression()</pre><b>In a Jupyter environment, please rerun this cell to show the HTML representation or trust the notebook. <br />On GitHub, the HTML representation is unable to render, please try loading this page with nbviewer.org.</b></div><div class=\"sk-container\" hidden><div class=\"sk-item\"><div class=\"sk-estimator sk-toggleable\"><input class=\"sk-toggleable__control sk-hidden--visually\" id=\"sk-estimator-id-9\" type=\"checkbox\" checked><label for=\"sk-estimator-id-9\" class=\"sk-toggleable__label sk-toggleable__label-arrow\">LogisticRegression</label><div class=\"sk-toggleable__content\"><pre>LogisticRegression()</pre></div></div></div></div></div>"
      ],
      "text/plain": [
       "LogisticRegression()"
      ]
     },
     "execution_count": 354,
     "metadata": {},
     "output_type": "execute_result"
    }
   ],
   "source": [
    "log_reg_model.fit(X_train, y_train)"
   ]
  },
  {
   "cell_type": "code",
   "execution_count": 355,
   "id": "3027722e",
   "metadata": {},
   "outputs": [
    {
     "data": {
      "text/plain": [
       "array([[-0.07536278,  0.20554064, -0.17444068, -0.39295679,  0.79021402,\n",
       "         0.0875374 , -0.07561088,  0.08606404, -0.82907553, -0.43691599,\n",
       "        -0.7022402 , -0.08911996, -0.57734237, -0.50312115, -1.18243475,\n",
       "        -0.08430587, -0.32871767, -0.5981365 ,  0.1208182 , -0.1473606 ,\n",
       "        -0.25826653, -0.02715141,  0.71286644, -0.51040304, -0.02898985,\n",
       "        -0.54262161, -0.22706421, -0.08583103,  0.32183818,  0.00148531]])"
      ]
     },
     "execution_count": 355,
     "metadata": {},
     "output_type": "execute_result"
    }
   ],
   "source": [
    "log_reg_model.coef_"
   ]
  },
  {
   "cell_type": "code",
   "execution_count": 356,
   "id": "23504a84",
   "metadata": {},
   "outputs": [
    {
     "data": {
      "text/plain": [
       "array([-1.31341103])"
      ]
     },
     "execution_count": 356,
     "metadata": {},
     "output_type": "execute_result"
    }
   ],
   "source": [
    "log_reg_model.intercept_"
   ]
  },
  {
   "cell_type": "code",
   "execution_count": 357,
   "id": "065db09b",
   "metadata": {},
   "outputs": [],
   "source": [
    "predictions = log_reg_model.predict(X_test)"
   ]
  },
  {
   "cell_type": "code",
   "execution_count": 358,
   "id": "23cea8e6",
   "metadata": {},
   "outputs": [],
   "source": [
    "from sklearn.metrics import r2_score, accuracy_score"
   ]
  },
  {
   "cell_type": "code",
   "execution_count": 359,
   "id": "65e64078",
   "metadata": {},
   "outputs": [],
   "source": [
    "score = accuracy_score(y_test, predictions)"
   ]
  },
  {
   "cell_type": "code",
   "execution_count": 360,
   "id": "d9f3e7db",
   "metadata": {},
   "outputs": [
    {
     "data": {
      "text/plain": [
       "0.93"
      ]
     },
     "execution_count": 360,
     "metadata": {},
     "output_type": "execute_result"
    }
   ],
   "source": [
    "score.round(2)"
   ]
  },
  {
   "cell_type": "code",
   "execution_count": null,
   "id": "15895218",
   "metadata": {},
   "outputs": [],
   "source": [
    "from sklearn.metrics import classification_report"
   ]
  },
  {
   "cell_type": "code",
   "execution_count": 361,
   "id": "6dc6dd4e",
   "metadata": {},
   "outputs": [
    {
     "name": "stdout",
     "output_type": "stream",
     "text": [
      "              precision    recall  f1-score   support\n",
      "\n",
      "           0       0.93      0.93      0.93       158\n",
      "           1       0.92      0.92      0.92       140\n",
      "\n",
      "    accuracy                           0.93       298\n",
      "   macro avg       0.93      0.93      0.93       298\n",
      "weighted avg       0.93      0.93      0.93       298\n",
      "\n"
     ]
    }
   ],
   "source": [
    "print(classification_report(y_test, predictions))"
   ]
  },
  {
   "cell_type": "code",
   "execution_count": 362,
   "id": "bac56856",
   "metadata": {},
   "outputs": [],
   "source": [
    "from sklearn.metrics import PrecisionRecallDisplay"
   ]
  },
  {
   "cell_type": "code",
   "execution_count": 363,
   "id": "65d81196",
   "metadata": {},
   "outputs": [
    {
     "data": {
      "text/plain": [
       "<sklearn.metrics._plot.precision_recall_curve.PrecisionRecallDisplay at 0x1fac56449d0>"
      ]
     },
     "execution_count": 363,
     "metadata": {},
     "output_type": "execute_result"
    },
    {
     "data": {
      "image/png": "[encoded data removed]",
      "text/plain": [
       "<Figure size 640x480 with 1 Axes>"
      ]
     },
     "metadata": {},
     "output_type": "display_data"
    }
   ],
   "source": [
    "PrecisionRecallDisplay.from_estimator(log_reg_model, X_test, y_test, name= 'Logistics Regression Estimator', plot_chance_level=True)"
   ]
  },
  {
   "cell_type": "markdown",
   "id": "1b329d2f",
   "metadata": {},
   "source": [
    "### From the graph we can see that the model generalised pretty well"
   ]
  },
  {
   "cell_type": "code",
   "execution_count": 364,
   "id": "5b60d303",
   "metadata": {},
   "outputs": [
    {
     "data": {
      "text/plain": [
       "<sklearn.metrics._plot.precision_recall_curve.PrecisionRecallDisplay at 0x1fac8870710>"
      ]
     },
     "execution_count": 364,
     "metadata": {},
     "output_type": "execute_result"
    },
    {
     "data": {
      "image/png": "[encoded data removed]",
      "text/plain": [
       "<Figure size 640x480 with 1 Axes>"
      ]
     },
     "metadata": {},
     "output_type": "display_data"
    }
   ],
   "source": [
    "PrecisionRecallDisplay.from_predictions(y_test, predictions, name = 'Logistics Regression Predictions', plot_chance_level=True )"
   ]
  },
  {
   "cell_type": "markdown",
   "id": "60e9478c",
   "metadata": {},
   "source": [
    "### the predictions did okay too, but hopefully we will see a better performing model"
   ]
  },
  {
   "cell_type": "markdown",
   "id": "1a9125e1",
   "metadata": {},
   "source": [
    "#"
   ]
  },
  {
   "cell_type": "markdown",
   "id": "1f09f557",
   "metadata": {},
   "source": [
    "## Estimating Using SVM"
   ]
  },
  {
   "cell_type": "code",
   "execution_count": 366,
   "id": "7a145601",
   "metadata": {},
   "outputs": [],
   "source": [
    "from sklearn import svm"
   ]
  },
  {
   "cell_type": "code",
   "execution_count": 367,
   "id": "d3186902",
   "metadata": {},
   "outputs": [],
   "source": [
    "clf = svm.SVC(kernel= \"linear\")"
   ]
  },
  {
   "cell_type": "code",
   "execution_count": 368,
   "id": "1d207c22",
   "metadata": {},
   "outputs": [
    {
     "data": {
      "text/html": [
       "<style>#sk-container-id-10 {color: black;}#sk-container-id-10 pre{padding: 0;}#sk-container-id-10 div.sk-toggleable {background-color: white;}#sk-container-id-10 label.sk-toggleable__label {cursor: pointer;display: block;width: 100%;margin-bottom: 0;padding: 0.3em;box-sizing: border-box;text-align: center;}#sk-container-id-10 label.sk-toggleable__label-arrow:before {content: \"▸\";float: left;margin-right: 0.25em;color: #696969;}#sk-container-id-10 label.sk-toggleable__label-arrow:hover:before {color: black;}#sk-container-id-10 div.sk-estimator:hover label.sk-toggleable__label-arrow:before {color: black;}#sk-container-id-10 div.sk-toggleable__content {max-height: 0;max-width: 0;overflow: hidden;text-align: left;background-color: #f0f8ff;}#sk-container-id-10 div.sk-toggleable__content pre {margin: 0.2em;color: black;border-radius: 0.25em;background-color: #f0f8ff;}#sk-container-id-10 input.sk-toggleable__control:checked~div.sk-toggleable__content {max-height: 200px;max-width: 100%;overflow: auto;}#sk-container-id-10 input.sk-toggleable__control:checked~label.sk-toggleable__label-arrow:before {content: \"▾\";}#sk-container-id-10 div.sk-estimator input.sk-toggleable__control:checked~label.sk-toggleable__label {background-color: #d4ebff;}#sk-container-id-10 div.sk-label input.sk-toggleable__control:checked~label.sk-toggleable__label {background-color: #d4ebff;}#sk-container-id-10 input.sk-hidden--visually {border: 0;clip: rect(1px 1px 1px 1px);clip: rect(1px, 1px, 1px, 1px);height: 1px;margin: -1px;overflow: hidden;padding: 0;position: absolute;width: 1px;}#sk-container-id-10 div.sk-estimator {font-family: monospace;background-color: #f0f8ff;border: 1px dotted black;border-radius: 0.25em;box-sizing: border-box;margin-bottom: 0.5em;}#sk-container-id-10 div.sk-estimator:hover {background-color: #d4ebff;}#sk-container-id-10 div.sk-parallel-item::after {content: \"\";width: 100%;border-bottom: 1px solid gray;flex-grow: 1;}#sk-container-id-10 div.sk-label:hover label.sk-toggleable__label {background-color: #d4ebff;}#sk-container-id-10 div.sk-serial::before {content: \"\";position: absolute;border-left: 1px solid gray;box-sizing: border-box;top: 0;bottom: 0;left: 50%;z-index: 0;}#sk-container-id-10 div.sk-serial {display: flex;flex-direction: column;align-items: center;background-color: white;padding-right: 0.2em;padding-left: 0.2em;position: relative;}#sk-container-id-10 div.sk-item {position: relative;z-index: 1;}#sk-container-id-10 div.sk-parallel {display: flex;align-items: stretch;justify-content: center;background-color: white;position: relative;}#sk-container-id-10 div.sk-item::before, #sk-container-id-10 div.sk-parallel-item::before {content: \"\";position: absolute;border-left: 1px solid gray;box-sizing: border-box;top: 0;bottom: 0;left: 50%;z-index: -1;}#sk-container-id-10 div.sk-parallel-item {display: flex;flex-direction: column;z-index: 1;position: relative;background-color: white;}#sk-container-id-10 div.sk-parallel-item:first-child::after {align-self: flex-end;width: 50%;}#sk-container-id-10 div.sk-parallel-item:last-child::after {align-self: flex-start;width: 50%;}#sk-container-id-10 div.sk-parallel-item:only-child::after {width: 0;}#sk-container-id-10 div.sk-dashed-wrapped {border: 1px dashed gray;margin: 0 0.4em 0.5em 0.4em;box-sizing: border-box;padding-bottom: 0.4em;background-color: white;}#sk-container-id-10 div.sk-label label {font-family: monospace;font-weight: bold;display: inline-block;line-height: 1.2em;}#sk-container-id-10 div.sk-label-container {text-align: center;}#sk-container-id-10 div.sk-container {/* jupyter's `normalize.less` sets `[hidden] { display: none; }` but bootstrap.min.css set `[hidden] { display: none !important; }` so we also need the `!important` here to be able to override the default hidden behavior on the sphinx rendered scikit-learn.org. See: https://github.com/scikit-learn/scikit-learn/issues/21755 */display: inline-block !important;position: relative;}#sk-container-id-10 div.sk-text-repr-fallback {display: none;}</style><div id=\"sk-container-id-10\" class=\"sk-top-container\"><div class=\"sk-text-repr-fallback\"><pre>SVC(kernel=&#x27;linear&#x27;)</pre><b>In a Jupyter environment, please rerun this cell to show the HTML representation or trust the notebook. <br />On GitHub, the HTML representation is unable to render, please try loading this page with nbviewer.org.</b></div><div class=\"sk-container\" hidden><div class=\"sk-item\"><div class=\"sk-estimator sk-toggleable\"><input class=\"sk-toggleable__control sk-hidden--visually\" id=\"sk-estimator-id-10\" type=\"checkbox\" checked><label for=\"sk-estimator-id-10\" class=\"sk-toggleable__label sk-toggleable__label-arrow\">SVC</label><div class=\"sk-toggleable__content\"><pre>SVC(kernel=&#x27;linear&#x27;)</pre></div></div></div></div></div>"
      ],
      "text/plain": [
       "SVC(kernel='linear')"
      ]
     },
     "execution_count": 368,
     "metadata": {},
     "output_type": "execute_result"
    }
   ],
   "source": [
    "clf.fit(X_train, y_train)"
   ]
  },
  {
   "cell_type": "code",
   "execution_count": 369,
   "id": "e60a8db8",
   "metadata": {},
   "outputs": [],
   "source": [
    "svc_pred = clf.predict(X_test)"
   ]
  },
  {
   "cell_type": "code",
   "execution_count": 370,
   "id": "60932221",
   "metadata": {},
   "outputs": [
    {
     "data": {
      "text/plain": [
       "0.9429530201342282"
      ]
     },
     "execution_count": 370,
     "metadata": {},
     "output_type": "execute_result"
    }
   ],
   "source": [
    "accuracy_score(y_test, svc_pred)"
   ]
  },
  {
   "cell_type": "code",
   "execution_count": 371,
   "id": "cc19d2dd",
   "metadata": {},
   "outputs": [
    {
     "name": "stdout",
     "output_type": "stream",
     "text": [
      "              precision    recall  f1-score   support\n",
      "\n",
      "           0       0.93      0.96      0.95       158\n",
      "           1       0.96      0.92      0.94       140\n",
      "\n",
      "    accuracy                           0.94       298\n",
      "   macro avg       0.94      0.94      0.94       298\n",
      "weighted avg       0.94      0.94      0.94       298\n",
      "\n"
     ]
    }
   ],
   "source": [
    "print(classification_report(y_test, svc_pred))"
   ]
  },
  {
   "cell_type": "code",
   "execution_count": 372,
   "id": "e001de15",
   "metadata": {},
   "outputs": [
    {
     "data": {
      "text/plain": [
       "<sklearn.metrics._plot.precision_recall_curve.PrecisionRecallDisplay at 0x1fac85309d0>"
      ]
     },
     "execution_count": 372,
     "metadata": {},
     "output_type": "execute_result"
    },
    {
     "data": {
      "image/png": "[encoded data removed]",
      "text/plain": [
       "<Figure size 640x480 with 1 Axes>"
      ]
     },
     "metadata": {},
     "output_type": "display_data"
    }
   ],
   "source": [
    "PrecisionRecallDisplay.from_estimator(clf, X_test, y_test, name= 'Support Vector Machine  Estimator', plot_chance_level=True)"
   ]
  },
  {
   "cell_type": "code",
   "execution_count": 373,
   "id": "1d4840be",
   "metadata": {},
   "outputs": [
    {
     "data": {
      "text/plain": [
       "<sklearn.metrics._plot.precision_recall_curve.PrecisionRecallDisplay at 0x1fac345be50>"
      ]
     },
     "execution_count": 373,
     "metadata": {},
     "output_type": "execute_result"
    },
    {
     "data": {
      "image/png": "[encoded data removed]",
      "text/plain": [
       "<Figure size 640x480 with 1 Axes>"
      ]
     },
     "metadata": {},
     "output_type": "display_data"
    }
   ],
   "source": [
    "PrecisionRecallDisplay.from_predictions(y_test, svc_pred, name = 'Support Vector Machine Predictions', plot_chance_level=True )"
   ]
  },
  {
   "cell_type": "markdown",
   "id": "759d57c8",
   "metadata": {},
   "source": [
    "### Here we see that SVM classifier has a better accuracy than logistics regression and also generalizes better from the PR graph"
   ]
  },
  {
   "cell_type": "markdown",
   "id": "b7e53d9e",
   "metadata": {},
   "source": [
    "#"
   ]
  },
  {
   "cell_type": "markdown",
   "id": "a7d77338",
   "metadata": {},
   "source": [
    "## Estimation Using Naive Baye "
   ]
  },
  {
   "cell_type": "code",
   "execution_count": 379,
   "id": "ae985aa1",
   "metadata": {},
   "outputs": [],
   "source": [
    "from sklearn.naive_bayes import GaussianNB"
   ]
  },
  {
   "cell_type": "code",
   "execution_count": 380,
   "id": "f5a119fd",
   "metadata": {},
   "outputs": [],
   "source": [
    "gnb = GaussianNB()"
   ]
  },
  {
   "cell_type": "code",
   "execution_count": 381,
   "id": "b6e05417",
   "metadata": {},
   "outputs": [
    {
     "data": {
      "text/html": [
       "<style>#sk-container-id-12 {color: black;}#sk-container-id-12 pre{padding: 0;}#sk-container-id-12 div.sk-toggleable {background-color: white;}#sk-container-id-12 label.sk-toggleable__label {cursor: pointer;display: block;width: 100%;margin-bottom: 0;padding: 0.3em;box-sizing: border-box;text-align: center;}#sk-container-id-12 label.sk-toggleable__label-arrow:before {content: \"▸\";float: left;margin-right: 0.25em;color: #696969;}#sk-container-id-12 label.sk-toggleable__label-arrow:hover:before {color: black;}#sk-container-id-12 div.sk-estimator:hover label.sk-toggleable__label-arrow:before {color: black;}#sk-container-id-12 div.sk-toggleable__content {max-height: 0;max-width: 0;overflow: hidden;text-align: left;background-color: #f0f8ff;}#sk-container-id-12 div.sk-toggleable__content pre {margin: 0.2em;color: black;border-radius: 0.25em;background-color: #f0f8ff;}#sk-container-id-12 input.sk-toggleable__control:checked~div.sk-toggleable__content {max-height: 200px;max-width: 100%;overflow: auto;}#sk-container-id-12 input.sk-toggleable__control:checked~label.sk-toggleable__label-arrow:before {content: \"▾\";}#sk-container-id-12 div.sk-estimator input.sk-toggleable__control:checked~label.sk-toggleable__label {background-color: #d4ebff;}#sk-container-id-12 div.sk-label input.sk-toggleable__control:checked~label.sk-toggleable__label {background-color: #d4ebff;}#sk-container-id-12 input.sk-hidden--visually {border: 0;clip: rect(1px 1px 1px 1px);clip: rect(1px, 1px, 1px, 1px);height: 1px;margin: -1px;overflow: hidden;padding: 0;position: absolute;width: 1px;}#sk-container-id-12 div.sk-estimator {font-family: monospace;background-color: #f0f8ff;border: 1px dotted black;border-radius: 0.25em;box-sizing: border-box;margin-bottom: 0.5em;}#sk-container-id-12 div.sk-estimator:hover {background-color: #d4ebff;}#sk-container-id-12 div.sk-parallel-item::after {content: \"\";width: 100%;border-bottom: 1px solid gray;flex-grow: 1;}#sk-container-id-12 div.sk-label:hover label.sk-toggleable__label {background-color: #d4ebff;}#sk-container-id-12 div.sk-serial::before {content: \"\";position: absolute;border-left: 1px solid gray;box-sizing: border-box;top: 0;bottom: 0;left: 50%;z-index: 0;}#sk-container-id-12 div.sk-serial {display: flex;flex-direction: column;align-items: center;background-color: white;padding-right: 0.2em;padding-left: 0.2em;position: relative;}#sk-container-id-12 div.sk-item {position: relative;z-index: 1;}#sk-container-id-12 div.sk-parallel {display: flex;align-items: stretch;justify-content: center;background-color: white;position: relative;}#sk-container-id-12 div.sk-item::before, #sk-container-id-12 div.sk-parallel-item::before {content: \"\";position: absolute;border-left: 1px solid gray;box-sizing: border-box;top: 0;bottom: 0;left: 50%;z-index: -1;}#sk-container-id-12 div.sk-parallel-item {display: flex;flex-direction: column;z-index: 1;position: relative;background-color: white;}#sk-container-id-12 div.sk-parallel-item:first-child::after {align-self: flex-end;width: 50%;}#sk-container-id-12 div.sk-parallel-item:last-child::after {align-self: flex-start;width: 50%;}#sk-container-id-12 div.sk-parallel-item:only-child::after {width: 0;}#sk-container-id-12 div.sk-dashed-wrapped {border: 1px dashed gray;margin: 0 0.4em 0.5em 0.4em;box-sizing: border-box;padding-bottom: 0.4em;background-color: white;}#sk-container-id-12 div.sk-label label {font-family: monospace;font-weight: bold;display: inline-block;line-height: 1.2em;}#sk-container-id-12 div.sk-label-container {text-align: center;}#sk-container-id-12 div.sk-container {/* jupyter's `normalize.less` sets `[hidden] { display: none; }` but bootstrap.min.css set `[hidden] { display: none !important; }` so we also need the `!important` here to be able to override the default hidden behavior on the sphinx rendered scikit-learn.org. See: https://github.com/scikit-learn/scikit-learn/issues/21755 */display: inline-block !important;position: relative;}#sk-container-id-12 div.sk-text-repr-fallback {display: none;}</style><div id=\"sk-container-id-12\" class=\"sk-top-container\"><div class=\"sk-text-repr-fallback\"><pre>GaussianNB()</pre><b>In a Jupyter environment, please rerun this cell to show the HTML representation or trust the notebook. <br />On GitHub, the HTML representation is unable to render, please try loading this page with nbviewer.org.</b></div><div class=\"sk-container\" hidden><div class=\"sk-item\"><div class=\"sk-estimator sk-toggleable\"><input class=\"sk-toggleable__control sk-hidden--visually\" id=\"sk-estimator-id-12\" type=\"checkbox\" checked><label for=\"sk-estimator-id-12\" class=\"sk-toggleable__label sk-toggleable__label-arrow\">GaussianNB</label><div class=\"sk-toggleable__content\"><pre>GaussianNB()</pre></div></div></div></div></div>"
      ],
      "text/plain": [
       "GaussianNB()"
      ]
     },
     "execution_count": 381,
     "metadata": {},
     "output_type": "execute_result"
    }
   ],
   "source": [
    "gnb.fit(X_train, y_train)"
   ]
  },
  {
   "cell_type": "code",
   "execution_count": 382,
   "id": "24947a08",
   "metadata": {},
   "outputs": [],
   "source": [
    "gnb_pred = gnb.predict(X_test)"
   ]
  },
  {
   "cell_type": "code",
   "execution_count": 384,
   "id": "f30d9a62",
   "metadata": {},
   "outputs": [
    {
     "data": {
      "text/plain": [
       "0.912751677852349"
      ]
     },
     "execution_count": 384,
     "metadata": {},
     "output_type": "execute_result"
    }
   ],
   "source": [
    "accuracy_score(y_test, gnb_pred)"
   ]
  },
  {
   "cell_type": "code",
   "execution_count": 385,
   "id": "189576a8",
   "metadata": {},
   "outputs": [
    {
     "name": "stdout",
     "output_type": "stream",
     "text": [
      "              precision    recall  f1-score   support\n",
      "\n",
      "           0       0.89      0.96      0.92       158\n",
      "           1       0.95      0.86      0.90       140\n",
      "\n",
      "    accuracy                           0.91       298\n",
      "   macro avg       0.92      0.91      0.91       298\n",
      "weighted avg       0.92      0.91      0.91       298\n",
      "\n"
     ]
    }
   ],
   "source": [
    "print(classification_report(y_test, gnb_pred))"
   ]
  },
  {
   "cell_type": "code",
   "execution_count": 386,
   "id": "0dacccd3",
   "metadata": {},
   "outputs": [
    {
     "data": {
      "text/plain": [
       "<sklearn.metrics._plot.precision_recall_curve.PrecisionRecallDisplay at 0x1fac931cb50>"
      ]
     },
     "execution_count": 386,
     "metadata": {},
     "output_type": "execute_result"
    },
    {
     "data": {
      "image/png": "[encoded data removed]",
      "text/plain": [
       "<Figure size 640x480 with 1 Axes>"
      ]
     },
     "metadata": {},
     "output_type": "display_data"
    }
   ],
   "source": [
    "PrecisionRecallDisplay.from_estimator(gnb, X_test, y_test, name=\"Gaussian Naive Baye Estimator\", plot_chance_level=True)"
   ]
  },
  {
   "cell_type": "code",
   "execution_count": 387,
   "id": "54d18a50",
   "metadata": {},
   "outputs": [
    {
     "data": {
      "text/plain": [
       "<sklearn.metrics._plot.precision_recall_curve.PrecisionRecallDisplay at 0x1fac9325050>"
      ]
     },
     "execution_count": 387,
     "metadata": {},
     "output_type": "execute_result"
    },
    {
     "data": {
      "image/png": "[encoded data removed]",
      "text/plain": [
       "<Figure size 640x480 with 1 Axes>"
      ]
     },
     "metadata": {},
     "output_type": "display_data"
    }
   ],
   "source": [
    "PrecisionRecallDisplay.from_predictions(y_test, gnb_pred, name='Gausian Naive Baye Predictions', plot_chance_level=True)"
   ]
  },
  {
   "cell_type": "markdown",
   "id": "08fb2026",
   "metadata": {},
   "source": [
    "### Even though Naive Baye is not a perfect used case for this kind of situation, but due to its probabilistic properties we can see from the graph that it is able to predict fraudulent transactions better than other models "
   ]
  },
  {
   "cell_type": "markdown",
   "id": "59d1a0e7",
   "metadata": {},
   "source": [
    "#"
   ]
  },
  {
   "cell_type": "markdown",
   "id": "4fdb105a",
   "metadata": {},
   "source": [
    "## Estimating Using Artificial Neural Network"
   ]
  },
  {
   "cell_type": "code",
   "execution_count": 401,
   "id": "5f1ca746",
   "metadata": {},
   "outputs": [],
   "source": [
    "from tensorflow.keras.layers import Dense\n",
    "from tensorflow.keras.models import Sequential"
   ]
  },
  {
   "cell_type": "code",
   "execution_count": 402,
   "id": "9b67c123",
   "metadata": {},
   "outputs": [],
   "source": [
    "NN_model = Sequential()"
   ]
  },
  {
   "cell_type": "code",
   "execution_count": 403,
   "id": "863b684a",
   "metadata": {},
   "outputs": [],
   "source": [
    "NN_model.add(Dense(20, activation='relu', input_dim=30))"
   ]
  },
  {
   "cell_type": "code",
   "execution_count": 404,
   "id": "9e3e5ba9",
   "metadata": {},
   "outputs": [],
   "source": [
    "NN_model.add(Dense(10, activation='relu'))"
   ]
  },
  {
   "cell_type": "code",
   "execution_count": 405,
   "id": "3e33bdba",
   "metadata": {},
   "outputs": [],
   "source": [
    "NN_model.add(Dense(1, activation='sigmoid'))\n"
   ]
  },
  {
   "cell_type": "code",
   "execution_count": 406,
   "id": "7f9bd844",
   "metadata": {},
   "outputs": [],
   "source": [
    "NN_model.compile(optimizer='adam', loss='binary_crossentropy', metrics=['accuracy'])"
   ]
  },
  {
   "cell_type": "code",
   "execution_count": 407,
   "id": "3b3f4e50",
   "metadata": {},
   "outputs": [
    {
     "name": "stdout",
     "output_type": "stream",
     "text": [
      "Epoch 1/10\n",
      "70/70 [==============================] - 2s 3ms/step - loss: 0.7639 - accuracy: 0.6816\n",
      "Epoch 2/10\n",
      "70/70 [==============================] - 0s 3ms/step - loss: 0.4232 - accuracy: 0.8790\n",
      "Epoch 3/10\n",
      "70/70 [==============================] - 0s 3ms/step - loss: 0.3026 - accuracy: 0.9063\n",
      "Epoch 4/10\n",
      "70/70 [==============================] - 0s 3ms/step - loss: 0.3146 - accuracy: 0.9063\n",
      "Epoch 5/10\n",
      "70/70 [==============================] - 0s 3ms/step - loss: 0.2646 - accuracy: 0.9294\n",
      "Epoch 6/10\n",
      "70/70 [==============================] - 0s 3ms/step - loss: 0.2257 - accuracy: 0.9236\n",
      "Epoch 7/10\n",
      "70/70 [==============================] - 0s 3ms/step - loss: 0.2706 - accuracy: 0.9323\n",
      "Epoch 8/10\n",
      "70/70 [==============================] - 0s 3ms/step - loss: 0.3383 - accuracy: 0.9294\n",
      "Epoch 9/10\n",
      "70/70 [==============================] - 0s 3ms/step - loss: 0.2337 - accuracy: 0.9323\n",
      "Epoch 10/10\n",
      "70/70 [==============================] - 0s 3ms/step - loss: 0.1883 - accuracy: 0.9424\n"
     ]
    },
    {
     "data": {
      "text/plain": [
       "<keras.src.callbacks.History at 0x1facb498910>"
      ]
     },
     "execution_count": 407,
     "metadata": {},
     "output_type": "execute_result"
    }
   ],
   "source": [
    "NN_model.fit(X_train, y_train, batch_size=10, epochs=10)"
   ]
  },
  {
   "cell_type": "code",
   "execution_count": 408,
   "id": "806c0cef",
   "metadata": {},
   "outputs": [
    {
     "name": "stdout",
     "output_type": "stream",
     "text": [
      "10/10 [==============================] - 0s 2ms/step\n"
     ]
    }
   ],
   "source": [
    "NN_pred = NN_model.predict(X_test)"
   ]
  },
  {
   "cell_type": "code",
   "execution_count": 409,
   "id": "301ee883",
   "metadata": {},
   "outputs": [
    {
     "name": "stdout",
     "output_type": "stream",
     "text": [
      "10/10 [==============================] - 0s 3ms/step - loss: 0.2184 - accuracy: 0.9295\n"
     ]
    }
   ],
   "source": [
    "NN_loss, NN_acuracy = NN_model.evaluate(X_test, y_test)"
   ]
  },
  {
   "cell_type": "code",
   "execution_count": 410,
   "id": "4769b3fd",
   "metadata": {},
   "outputs": [
    {
     "data": {
      "text/plain": [
       "0.9295302033424377"
      ]
     },
     "execution_count": 410,
     "metadata": {},
     "output_type": "execute_result"
    }
   ],
   "source": [
    "NN_acuracy"
   ]
  },
  {
   "cell_type": "markdown",
   "id": "c1aa7484",
   "metadata": {},
   "source": [
    "#### The ANN model did good, but we've seen better performing models"
   ]
  },
  {
   "cell_type": "markdown",
   "id": "c5accef3",
   "metadata": {},
   "source": [
    "#"
   ]
  },
  {
   "cell_type": "markdown",
   "id": "d6637370",
   "metadata": {},
   "source": [
    "#"
   ]
  },
  {
   "cell_type": "markdown",
   "id": "e5e6121d",
   "metadata": {},
   "source": [
    "# Summary, Conclusion And Recomendation"
   ]
  },
  {
   "cell_type": "markdown",
   "id": "b300a8eb",
   "metadata": {},
   "source": [
    "#### From the various analysis done, \n",
    "#### Logistics Regression has 93% precision Predicting Non-Fraudulent transactions and 92% precision predicting Fraudulent transactions with a total accuracy of 93%\n",
    "\n",
    "#### SVM(Support Vector machine ) has 93% precision Predicting Non-Fraudulent transactions and 96% precision predicting Fraudulent transactions with a total accuracy of 94%\n",
    "\n",
    "#### Naive Baiye has 89% precision Predicting Non-Fraudulent transactions and 95% precision predicting Fraudulent transactions with a total accuracy of 91%\n",
    "\n",
    "#### Artificial Neural Network has an acuracy of 92%\n",
    "\n",
    "#### Eventhough Naive Baiye performed Poorly in this test, it is evident that the naive-Baiye model has a thing for figuring out illogical, incosistent or fishy pattern of events.\n",
    "\n"
   ]
  },
  {
   "cell_type": "markdown",
   "id": "4234bc53",
   "metadata": {},
   "source": [
    "### My Recomendation is ... Companies adopt the SVM or Naive Baiye Model in Identifying or Recognizing Fraudulent patterns so that customers are not charged for fraudulent transactions."
   ]
  }
 ],
 "metadata": {
  "kernelspec": {
   "display_name": "Python 3 (ipykernel)",
   "language": "python",
   "name": "python3"
  },
  "language_info": {
   "codemirror_mode": {
    "name": "ipython",
    "version": 3
   },
   "file_extension": ".py",
   "mimetype": "text/x-python",
   "name": "python",
   "nbconvert_exporter": "python",
   "pygments_lexer": "ipython3",
   "version": "3.11.5"
  }
 },
 "nbformat": 4,
 "nbformat_minor": 5
}
